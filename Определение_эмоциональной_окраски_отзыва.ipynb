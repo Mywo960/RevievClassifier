{
  "nbformat": 4,
  "nbformat_minor": 0,
  "metadata": {
    "colab": {
      "provenance": [],
      "toc_visible": true,
      "authorship_tag": "ABX9TyNojBOkYts6Bgc2kT2TwojI",
      "include_colab_link": true
    },
    "kernelspec": {
      "name": "python3",
      "display_name": "Python 3"
    },
    "language_info": {
      "name": "python"
    }
  },
  "cells": [
    {
      "cell_type": "markdown",
      "metadata": {
        "id": "view-in-github",
        "colab_type": "text"
      },
      "source": [
        "<a href=\"https://colab.research.google.com/github/Mywo960/RevievClassifier/blob/main/%D0%9E%D0%BF%D1%80%D0%B5%D0%B4%D0%B5%D0%BB%D0%B5%D0%BD%D0%B8%D0%B5_%D1%8D%D0%BC%D0%BE%D1%86%D0%B8%D0%BE%D0%BD%D0%B0%D0%BB%D1%8C%D0%BD%D0%BE%D0%B9_%D0%BE%D0%BA%D1%80%D0%B0%D1%81%D0%BA%D0%B8_%D0%BE%D1%82%D0%B7%D1%8B%D0%B2%D0%B0.ipynb\" target=\"_parent\"><img src=\"https://colab.research.google.com/assets/colab-badge.svg\" alt=\"Open In Colab\"/></a>"
      ]
    },
    {
      "cell_type": "markdown",
      "source": [
        "# **Определение эмоциональной окраски отзыва**"
      ],
      "metadata": {
        "id": "c0QVia2TstR5"
      }
    },
    {
      "cell_type": "code",
      "execution_count": 3,
      "metadata": {
        "colab": {
          "base_uri": "https://localhost:8080/"
        },
        "id": "YBthZ6ZgsrTa",
        "outputId": "50827350-881e-4c85-c1f8-7184e9d51f78"
      },
      "outputs": [
        {
          "output_type": "stream",
          "name": "stdout",
          "text": [
            "Mounted at /content/drive\n"
          ]
        }
      ],
      "source": [
        "import sklearn\n",
        "from google.colab import drive\n",
        "drive.mount('/content/drive')"
      ]
    },
    {
      "cell_type": "code",
      "source": [
        "pip install pandas spacy scikit-learn streamlit"
      ],
      "metadata": {
        "colab": {
          "base_uri": "https://localhost:8080/"
        },
        "id": "iWxq-NGuSmSj",
        "outputId": "b52f7a47-bf90-4870-85be-e650221e75e1"
      },
      "execution_count": 4,
      "outputs": [
        {
          "output_type": "stream",
          "name": "stdout",
          "text": [
            "Requirement already satisfied: pandas in /usr/local/lib/python3.10/dist-packages (2.0.3)\n",
            "Requirement already satisfied: spacy in /usr/local/lib/python3.10/dist-packages (3.7.4)\n",
            "Requirement already satisfied: scikit-learn in /usr/local/lib/python3.10/dist-packages (1.2.2)\n",
            "Collecting streamlit\n",
            "  Downloading streamlit-1.33.0-py2.py3-none-any.whl (8.1 MB)\n",
            "\u001b[2K     \u001b[90m━━━━━━━━━━━━━━━━━━━━━━━━━━━━━━━━━━━━━━━━\u001b[0m \u001b[32m8.1/8.1 MB\u001b[0m \u001b[31m16.8 MB/s\u001b[0m eta \u001b[36m0:00:00\u001b[0m\n",
            "\u001b[?25hRequirement already satisfied: python-dateutil>=2.8.2 in /usr/local/lib/python3.10/dist-packages (from pandas) (2.8.2)\n",
            "Requirement already satisfied: pytz>=2020.1 in /usr/local/lib/python3.10/dist-packages (from pandas) (2023.4)\n",
            "Requirement already satisfied: tzdata>=2022.1 in /usr/local/lib/python3.10/dist-packages (from pandas) (2024.1)\n",
            "Requirement already satisfied: numpy>=1.21.0 in /usr/local/lib/python3.10/dist-packages (from pandas) (1.25.2)\n",
            "Requirement already satisfied: spacy-legacy<3.1.0,>=3.0.11 in /usr/local/lib/python3.10/dist-packages (from spacy) (3.0.12)\n",
            "Requirement already satisfied: spacy-loggers<2.0.0,>=1.0.0 in /usr/local/lib/python3.10/dist-packages (from spacy) (1.0.5)\n",
            "Requirement already satisfied: murmurhash<1.1.0,>=0.28.0 in /usr/local/lib/python3.10/dist-packages (from spacy) (1.0.10)\n",
            "Requirement already satisfied: cymem<2.1.0,>=2.0.2 in /usr/local/lib/python3.10/dist-packages (from spacy) (2.0.8)\n",
            "Requirement already satisfied: preshed<3.1.0,>=3.0.2 in /usr/local/lib/python3.10/dist-packages (from spacy) (3.0.9)\n",
            "Requirement already satisfied: thinc<8.3.0,>=8.2.2 in /usr/local/lib/python3.10/dist-packages (from spacy) (8.2.3)\n",
            "Requirement already satisfied: wasabi<1.2.0,>=0.9.1 in /usr/local/lib/python3.10/dist-packages (from spacy) (1.1.2)\n",
            "Requirement already satisfied: srsly<3.0.0,>=2.4.3 in /usr/local/lib/python3.10/dist-packages (from spacy) (2.4.8)\n",
            "Requirement already satisfied: catalogue<2.1.0,>=2.0.6 in /usr/local/lib/python3.10/dist-packages (from spacy) (2.0.10)\n",
            "Requirement already satisfied: weasel<0.4.0,>=0.1.0 in /usr/local/lib/python3.10/dist-packages (from spacy) (0.3.4)\n",
            "Requirement already satisfied: typer<0.10.0,>=0.3.0 in /usr/local/lib/python3.10/dist-packages (from spacy) (0.9.4)\n",
            "Requirement already satisfied: smart-open<7.0.0,>=5.2.1 in /usr/local/lib/python3.10/dist-packages (from spacy) (6.4.0)\n",
            "Requirement already satisfied: tqdm<5.0.0,>=4.38.0 in /usr/local/lib/python3.10/dist-packages (from spacy) (4.66.2)\n",
            "Requirement already satisfied: requests<3.0.0,>=2.13.0 in /usr/local/lib/python3.10/dist-packages (from spacy) (2.31.0)\n",
            "Requirement already satisfied: pydantic!=1.8,!=1.8.1,<3.0.0,>=1.7.4 in /usr/local/lib/python3.10/dist-packages (from spacy) (2.7.0)\n",
            "Requirement already satisfied: jinja2 in /usr/local/lib/python3.10/dist-packages (from spacy) (3.1.3)\n",
            "Requirement already satisfied: setuptools in /usr/local/lib/python3.10/dist-packages (from spacy) (67.7.2)\n",
            "Requirement already satisfied: packaging>=20.0 in /usr/local/lib/python3.10/dist-packages (from spacy) (24.0)\n",
            "Requirement already satisfied: langcodes<4.0.0,>=3.2.0 in /usr/local/lib/python3.10/dist-packages (from spacy) (3.3.0)\n",
            "Requirement already satisfied: scipy>=1.3.2 in /usr/local/lib/python3.10/dist-packages (from scikit-learn) (1.11.4)\n",
            "Requirement already satisfied: joblib>=1.1.1 in /usr/local/lib/python3.10/dist-packages (from scikit-learn) (1.4.0)\n",
            "Requirement already satisfied: threadpoolctl>=2.0.0 in /usr/local/lib/python3.10/dist-packages (from scikit-learn) (3.4.0)\n",
            "Requirement already satisfied: altair<6,>=4.0 in /usr/local/lib/python3.10/dist-packages (from streamlit) (4.2.2)\n",
            "Requirement already satisfied: blinker<2,>=1.0.0 in /usr/lib/python3/dist-packages (from streamlit) (1.4)\n",
            "Requirement already satisfied: cachetools<6,>=4.0 in /usr/local/lib/python3.10/dist-packages (from streamlit) (5.3.3)\n",
            "Requirement already satisfied: click<9,>=7.0 in /usr/local/lib/python3.10/dist-packages (from streamlit) (8.1.7)\n",
            "Requirement already satisfied: pillow<11,>=7.1.0 in /usr/local/lib/python3.10/dist-packages (from streamlit) (9.4.0)\n",
            "Requirement already satisfied: protobuf<5,>=3.20 in /usr/local/lib/python3.10/dist-packages (from streamlit) (3.20.3)\n",
            "Requirement already satisfied: pyarrow>=7.0 in /usr/local/lib/python3.10/dist-packages (from streamlit) (14.0.2)\n",
            "Requirement already satisfied: rich<14,>=10.14.0 in /usr/local/lib/python3.10/dist-packages (from streamlit) (13.7.1)\n",
            "Requirement already satisfied: tenacity<9,>=8.1.0 in /usr/local/lib/python3.10/dist-packages (from streamlit) (8.2.3)\n",
            "Requirement already satisfied: toml<2,>=0.10.1 in /usr/local/lib/python3.10/dist-packages (from streamlit) (0.10.2)\n",
            "Requirement already satisfied: typing-extensions<5,>=4.3.0 in /usr/local/lib/python3.10/dist-packages (from streamlit) (4.11.0)\n",
            "Collecting gitpython!=3.1.19,<4,>=3.0.7 (from streamlit)\n",
            "  Downloading GitPython-3.1.43-py3-none-any.whl (207 kB)\n",
            "\u001b[2K     \u001b[90m━━━━━━━━━━━━━━━━━━━━━━━━━━━━━━━━━━━━━━━━\u001b[0m \u001b[32m207.3/207.3 kB\u001b[0m \u001b[31m19.3 MB/s\u001b[0m eta \u001b[36m0:00:00\u001b[0m\n",
            "\u001b[?25hCollecting pydeck<1,>=0.8.0b4 (from streamlit)\n",
            "  Downloading pydeck-0.9.0-py2.py3-none-any.whl (6.9 MB)\n",
            "\u001b[2K     \u001b[90m━━━━━━━━━━━━━━━━━━━━━━━━━━━━━━━━━━━━━━━━\u001b[0m \u001b[32m6.9/6.9 MB\u001b[0m \u001b[31m38.5 MB/s\u001b[0m eta \u001b[36m0:00:00\u001b[0m\n",
            "\u001b[?25hRequirement already satisfied: tornado<7,>=6.0.3 in /usr/local/lib/python3.10/dist-packages (from streamlit) (6.3.3)\n",
            "Collecting watchdog>=2.1.5 (from streamlit)\n",
            "  Downloading watchdog-4.0.0-py3-none-manylinux2014_x86_64.whl (82 kB)\n",
            "\u001b[2K     \u001b[90m━━━━━━━━━━━━━━━━━━━━━━━━━━━━━━━━━━━━━━━━\u001b[0m \u001b[32m83.0/83.0 kB\u001b[0m \u001b[31m8.8 MB/s\u001b[0m eta \u001b[36m0:00:00\u001b[0m\n",
            "\u001b[?25hRequirement already satisfied: entrypoints in /usr/local/lib/python3.10/dist-packages (from altair<6,>=4.0->streamlit) (0.4)\n",
            "Requirement already satisfied: jsonschema>=3.0 in /usr/local/lib/python3.10/dist-packages (from altair<6,>=4.0->streamlit) (4.19.2)\n",
            "Requirement already satisfied: toolz in /usr/local/lib/python3.10/dist-packages (from altair<6,>=4.0->streamlit) (0.12.1)\n",
            "Collecting gitdb<5,>=4.0.1 (from gitpython!=3.1.19,<4,>=3.0.7->streamlit)\n",
            "  Downloading gitdb-4.0.11-py3-none-any.whl (62 kB)\n",
            "\u001b[2K     \u001b[90m━━━━━━━━━━━━━━━━━━━━━━━━━━━━━━━━━━━━━━━━\u001b[0m \u001b[32m62.7/62.7 kB\u001b[0m \u001b[31m6.7 MB/s\u001b[0m eta \u001b[36m0:00:00\u001b[0m\n",
            "\u001b[?25hRequirement already satisfied: annotated-types>=0.4.0 in /usr/local/lib/python3.10/dist-packages (from pydantic!=1.8,!=1.8.1,<3.0.0,>=1.7.4->spacy) (0.6.0)\n",
            "Requirement already satisfied: pydantic-core==2.18.1 in /usr/local/lib/python3.10/dist-packages (from pydantic!=1.8,!=1.8.1,<3.0.0,>=1.7.4->spacy) (2.18.1)\n",
            "Requirement already satisfied: MarkupSafe>=2.0 in /usr/local/lib/python3.10/dist-packages (from jinja2->spacy) (2.1.5)\n",
            "Requirement already satisfied: six>=1.5 in /usr/local/lib/python3.10/dist-packages (from python-dateutil>=2.8.2->pandas) (1.16.0)\n",
            "Requirement already satisfied: charset-normalizer<4,>=2 in /usr/local/lib/python3.10/dist-packages (from requests<3.0.0,>=2.13.0->spacy) (3.3.2)\n",
            "Requirement already satisfied: idna<4,>=2.5 in /usr/local/lib/python3.10/dist-packages (from requests<3.0.0,>=2.13.0->spacy) (3.7)\n",
            "Requirement already satisfied: urllib3<3,>=1.21.1 in /usr/local/lib/python3.10/dist-packages (from requests<3.0.0,>=2.13.0->spacy) (2.0.7)\n",
            "Requirement already satisfied: certifi>=2017.4.17 in /usr/local/lib/python3.10/dist-packages (from requests<3.0.0,>=2.13.0->spacy) (2024.2.2)\n",
            "Requirement already satisfied: markdown-it-py>=2.2.0 in /usr/local/lib/python3.10/dist-packages (from rich<14,>=10.14.0->streamlit) (3.0.0)\n",
            "Requirement already satisfied: pygments<3.0.0,>=2.13.0 in /usr/local/lib/python3.10/dist-packages (from rich<14,>=10.14.0->streamlit) (2.16.1)\n",
            "Requirement already satisfied: blis<0.8.0,>=0.7.8 in /usr/local/lib/python3.10/dist-packages (from thinc<8.3.0,>=8.2.2->spacy) (0.7.11)\n",
            "Requirement already satisfied: confection<1.0.0,>=0.0.1 in /usr/local/lib/python3.10/dist-packages (from thinc<8.3.0,>=8.2.2->spacy) (0.1.4)\n",
            "Requirement already satisfied: cloudpathlib<0.17.0,>=0.7.0 in /usr/local/lib/python3.10/dist-packages (from weasel<0.4.0,>=0.1.0->spacy) (0.16.0)\n",
            "Collecting smmap<6,>=3.0.1 (from gitdb<5,>=4.0.1->gitpython!=3.1.19,<4,>=3.0.7->streamlit)\n",
            "  Downloading smmap-5.0.1-py3-none-any.whl (24 kB)\n",
            "Requirement already satisfied: attrs>=22.2.0 in /usr/local/lib/python3.10/dist-packages (from jsonschema>=3.0->altair<6,>=4.0->streamlit) (23.2.0)\n",
            "Requirement already satisfied: jsonschema-specifications>=2023.03.6 in /usr/local/lib/python3.10/dist-packages (from jsonschema>=3.0->altair<6,>=4.0->streamlit) (2023.12.1)\n",
            "Requirement already satisfied: referencing>=0.28.4 in /usr/local/lib/python3.10/dist-packages (from jsonschema>=3.0->altair<6,>=4.0->streamlit) (0.34.0)\n",
            "Requirement already satisfied: rpds-py>=0.7.1 in /usr/local/lib/python3.10/dist-packages (from jsonschema>=3.0->altair<6,>=4.0->streamlit) (0.18.0)\n",
            "Requirement already satisfied: mdurl~=0.1 in /usr/local/lib/python3.10/dist-packages (from markdown-it-py>=2.2.0->rich<14,>=10.14.0->streamlit) (0.1.2)\n",
            "Installing collected packages: watchdog, smmap, pydeck, gitdb, gitpython, streamlit\n",
            "Successfully installed gitdb-4.0.11 gitpython-3.1.43 pydeck-0.9.0 smmap-5.0.1 streamlit-1.33.0 watchdog-4.0.0\n"
          ]
        }
      ]
    },
    {
      "cell_type": "code",
      "source": [
        "import pandas as pd"
      ],
      "metadata": {
        "id": "acmK7oU0tpDg"
      },
      "execution_count": null,
      "outputs": []
    },
    {
      "cell_type": "code",
      "source": [
        "data = pd.read_csv(\"/content/drive/MyDrive/movie_reviews.csv\")"
      ],
      "metadata": {
        "id": "8YtAPPBns9w4"
      },
      "execution_count": null,
      "outputs": []
    },
    {
      "cell_type": "markdown",
      "source": [
        "Двнные из датасета"
      ],
      "metadata": {
        "id": "4BfC3CFZ-Hif"
      }
    },
    {
      "cell_type": "code",
      "source": [
        "data"
      ],
      "metadata": {
        "colab": {
          "base_uri": "https://localhost:8080/",
          "height": 424
        },
        "id": "GHSOel74twI0",
        "outputId": "d0632bae-c454-44af-deca-376d9ac262e7"
      },
      "execution_count": null,
      "outputs": [
        {
          "output_type": "execute_result",
          "data": {
            "text/plain": [
              "                                                    text  label\n",
              "0      I grew up (b. 1965) watching and loving the Th...      0\n",
              "1      When I put this movie in my DVD player, and sa...      0\n",
              "2      Why do people who do not know what a particula...      0\n",
              "3      Even though I have great interest in Biblical ...      0\n",
              "4      Im a die hard Dads Army fan and nothing will e...      1\n",
              "...                                                  ...    ...\n",
              "39995  \"Western Union\" is something of a forgotten cl...      1\n",
              "39996  This movie is an incredible piece of work. It ...      1\n",
              "39997  My wife and I watched this movie because we pl...      0\n",
              "39998  When I first watched Flatliners, I was amazed....      1\n",
              "39999  Why would this film be so good, but only gross...      1\n",
              "\n",
              "[40000 rows x 2 columns]"
            ],
            "text/html": [
              "\n",
              "  <div id=\"df-47c0f872-9b12-4e3d-8dc1-ac15461043c6\" class=\"colab-df-container\">\n",
              "    <div>\n",
              "<style scoped>\n",
              "    .dataframe tbody tr th:only-of-type {\n",
              "        vertical-align: middle;\n",
              "    }\n",
              "\n",
              "    .dataframe tbody tr th {\n",
              "        vertical-align: top;\n",
              "    }\n",
              "\n",
              "    .dataframe thead th {\n",
              "        text-align: right;\n",
              "    }\n",
              "</style>\n",
              "<table border=\"1\" class=\"dataframe\">\n",
              "  <thead>\n",
              "    <tr style=\"text-align: right;\">\n",
              "      <th></th>\n",
              "      <th>text</th>\n",
              "      <th>label</th>\n",
              "    </tr>\n",
              "  </thead>\n",
              "  <tbody>\n",
              "    <tr>\n",
              "      <th>0</th>\n",
              "      <td>I grew up (b. 1965) watching and loving the Th...</td>\n",
              "      <td>0</td>\n",
              "    </tr>\n",
              "    <tr>\n",
              "      <th>1</th>\n",
              "      <td>When I put this movie in my DVD player, and sa...</td>\n",
              "      <td>0</td>\n",
              "    </tr>\n",
              "    <tr>\n",
              "      <th>2</th>\n",
              "      <td>Why do people who do not know what a particula...</td>\n",
              "      <td>0</td>\n",
              "    </tr>\n",
              "    <tr>\n",
              "      <th>3</th>\n",
              "      <td>Even though I have great interest in Biblical ...</td>\n",
              "      <td>0</td>\n",
              "    </tr>\n",
              "    <tr>\n",
              "      <th>4</th>\n",
              "      <td>Im a die hard Dads Army fan and nothing will e...</td>\n",
              "      <td>1</td>\n",
              "    </tr>\n",
              "    <tr>\n",
              "      <th>...</th>\n",
              "      <td>...</td>\n",
              "      <td>...</td>\n",
              "    </tr>\n",
              "    <tr>\n",
              "      <th>39995</th>\n",
              "      <td>\"Western Union\" is something of a forgotten cl...</td>\n",
              "      <td>1</td>\n",
              "    </tr>\n",
              "    <tr>\n",
              "      <th>39996</th>\n",
              "      <td>This movie is an incredible piece of work. It ...</td>\n",
              "      <td>1</td>\n",
              "    </tr>\n",
              "    <tr>\n",
              "      <th>39997</th>\n",
              "      <td>My wife and I watched this movie because we pl...</td>\n",
              "      <td>0</td>\n",
              "    </tr>\n",
              "    <tr>\n",
              "      <th>39998</th>\n",
              "      <td>When I first watched Flatliners, I was amazed....</td>\n",
              "      <td>1</td>\n",
              "    </tr>\n",
              "    <tr>\n",
              "      <th>39999</th>\n",
              "      <td>Why would this film be so good, but only gross...</td>\n",
              "      <td>1</td>\n",
              "    </tr>\n",
              "  </tbody>\n",
              "</table>\n",
              "<p>40000 rows × 2 columns</p>\n",
              "</div>\n",
              "    <div class=\"colab-df-buttons\">\n",
              "\n",
              "  <div class=\"colab-df-container\">\n",
              "    <button class=\"colab-df-convert\" onclick=\"convertToInteractive('df-47c0f872-9b12-4e3d-8dc1-ac15461043c6')\"\n",
              "            title=\"Convert this dataframe to an interactive table.\"\n",
              "            style=\"display:none;\">\n",
              "\n",
              "  <svg xmlns=\"http://www.w3.org/2000/svg\" height=\"24px\" viewBox=\"0 -960 960 960\">\n",
              "    <path d=\"M120-120v-720h720v720H120Zm60-500h600v-160H180v160Zm220 220h160v-160H400v160Zm0 220h160v-160H400v160ZM180-400h160v-160H180v160Zm440 0h160v-160H620v160ZM180-180h160v-160H180v160Zm440 0h160v-160H620v160Z\"/>\n",
              "  </svg>\n",
              "    </button>\n",
              "\n",
              "  <style>\n",
              "    .colab-df-container {\n",
              "      display:flex;\n",
              "      gap: 12px;\n",
              "    }\n",
              "\n",
              "    .colab-df-convert {\n",
              "      background-color: #E8F0FE;\n",
              "      border: none;\n",
              "      border-radius: 50%;\n",
              "      cursor: pointer;\n",
              "      display: none;\n",
              "      fill: #1967D2;\n",
              "      height: 32px;\n",
              "      padding: 0 0 0 0;\n",
              "      width: 32px;\n",
              "    }\n",
              "\n",
              "    .colab-df-convert:hover {\n",
              "      background-color: #E2EBFA;\n",
              "      box-shadow: 0px 1px 2px rgba(60, 64, 67, 0.3), 0px 1px 3px 1px rgba(60, 64, 67, 0.15);\n",
              "      fill: #174EA6;\n",
              "    }\n",
              "\n",
              "    .colab-df-buttons div {\n",
              "      margin-bottom: 4px;\n",
              "    }\n",
              "\n",
              "    [theme=dark] .colab-df-convert {\n",
              "      background-color: #3B4455;\n",
              "      fill: #D2E3FC;\n",
              "    }\n",
              "\n",
              "    [theme=dark] .colab-df-convert:hover {\n",
              "      background-color: #434B5C;\n",
              "      box-shadow: 0px 1px 3px 1px rgba(0, 0, 0, 0.15);\n",
              "      filter: drop-shadow(0px 1px 2px rgba(0, 0, 0, 0.3));\n",
              "      fill: #FFFFFF;\n",
              "    }\n",
              "  </style>\n",
              "\n",
              "    <script>\n",
              "      const buttonEl =\n",
              "        document.querySelector('#df-47c0f872-9b12-4e3d-8dc1-ac15461043c6 button.colab-df-convert');\n",
              "      buttonEl.style.display =\n",
              "        google.colab.kernel.accessAllowed ? 'block' : 'none';\n",
              "\n",
              "      async function convertToInteractive(key) {\n",
              "        const element = document.querySelector('#df-47c0f872-9b12-4e3d-8dc1-ac15461043c6');\n",
              "        const dataTable =\n",
              "          await google.colab.kernel.invokeFunction('convertToInteractive',\n",
              "                                                    [key], {});\n",
              "        if (!dataTable) return;\n",
              "\n",
              "        const docLinkHtml = 'Like what you see? Visit the ' +\n",
              "          '<a target=\"_blank\" href=https://colab.research.google.com/notebooks/data_table.ipynb>data table notebook</a>'\n",
              "          + ' to learn more about interactive tables.';\n",
              "        element.innerHTML = '';\n",
              "        dataTable['output_type'] = 'display_data';\n",
              "        await google.colab.output.renderOutput(dataTable, element);\n",
              "        const docLink = document.createElement('div');\n",
              "        docLink.innerHTML = docLinkHtml;\n",
              "        element.appendChild(docLink);\n",
              "      }\n",
              "    </script>\n",
              "  </div>\n",
              "\n",
              "\n",
              "<div id=\"df-abc0ee8b-7077-4dd4-a6de-c22089990ab0\">\n",
              "  <button class=\"colab-df-quickchart\" onclick=\"quickchart('df-abc0ee8b-7077-4dd4-a6de-c22089990ab0')\"\n",
              "            title=\"Suggest charts\"\n",
              "            style=\"display:none;\">\n",
              "\n",
              "<svg xmlns=\"http://www.w3.org/2000/svg\" height=\"24px\"viewBox=\"0 0 24 24\"\n",
              "     width=\"24px\">\n",
              "    <g>\n",
              "        <path d=\"M19 3H5c-1.1 0-2 .9-2 2v14c0 1.1.9 2 2 2h14c1.1 0 2-.9 2-2V5c0-1.1-.9-2-2-2zM9 17H7v-7h2v7zm4 0h-2V7h2v10zm4 0h-2v-4h2v4z\"/>\n",
              "    </g>\n",
              "</svg>\n",
              "  </button>\n",
              "\n",
              "<style>\n",
              "  .colab-df-quickchart {\n",
              "      --bg-color: #E8F0FE;\n",
              "      --fill-color: #1967D2;\n",
              "      --hover-bg-color: #E2EBFA;\n",
              "      --hover-fill-color: #174EA6;\n",
              "      --disabled-fill-color: #AAA;\n",
              "      --disabled-bg-color: #DDD;\n",
              "  }\n",
              "\n",
              "  [theme=dark] .colab-df-quickchart {\n",
              "      --bg-color: #3B4455;\n",
              "      --fill-color: #D2E3FC;\n",
              "      --hover-bg-color: #434B5C;\n",
              "      --hover-fill-color: #FFFFFF;\n",
              "      --disabled-bg-color: #3B4455;\n",
              "      --disabled-fill-color: #666;\n",
              "  }\n",
              "\n",
              "  .colab-df-quickchart {\n",
              "    background-color: var(--bg-color);\n",
              "    border: none;\n",
              "    border-radius: 50%;\n",
              "    cursor: pointer;\n",
              "    display: none;\n",
              "    fill: var(--fill-color);\n",
              "    height: 32px;\n",
              "    padding: 0;\n",
              "    width: 32px;\n",
              "  }\n",
              "\n",
              "  .colab-df-quickchart:hover {\n",
              "    background-color: var(--hover-bg-color);\n",
              "    box-shadow: 0 1px 2px rgba(60, 64, 67, 0.3), 0 1px 3px 1px rgba(60, 64, 67, 0.15);\n",
              "    fill: var(--button-hover-fill-color);\n",
              "  }\n",
              "\n",
              "  .colab-df-quickchart-complete:disabled,\n",
              "  .colab-df-quickchart-complete:disabled:hover {\n",
              "    background-color: var(--disabled-bg-color);\n",
              "    fill: var(--disabled-fill-color);\n",
              "    box-shadow: none;\n",
              "  }\n",
              "\n",
              "  .colab-df-spinner {\n",
              "    border: 2px solid var(--fill-color);\n",
              "    border-color: transparent;\n",
              "    border-bottom-color: var(--fill-color);\n",
              "    animation:\n",
              "      spin 1s steps(1) infinite;\n",
              "  }\n",
              "\n",
              "  @keyframes spin {\n",
              "    0% {\n",
              "      border-color: transparent;\n",
              "      border-bottom-color: var(--fill-color);\n",
              "      border-left-color: var(--fill-color);\n",
              "    }\n",
              "    20% {\n",
              "      border-color: transparent;\n",
              "      border-left-color: var(--fill-color);\n",
              "      border-top-color: var(--fill-color);\n",
              "    }\n",
              "    30% {\n",
              "      border-color: transparent;\n",
              "      border-left-color: var(--fill-color);\n",
              "      border-top-color: var(--fill-color);\n",
              "      border-right-color: var(--fill-color);\n",
              "    }\n",
              "    40% {\n",
              "      border-color: transparent;\n",
              "      border-right-color: var(--fill-color);\n",
              "      border-top-color: var(--fill-color);\n",
              "    }\n",
              "    60% {\n",
              "      border-color: transparent;\n",
              "      border-right-color: var(--fill-color);\n",
              "    }\n",
              "    80% {\n",
              "      border-color: transparent;\n",
              "      border-right-color: var(--fill-color);\n",
              "      border-bottom-color: var(--fill-color);\n",
              "    }\n",
              "    90% {\n",
              "      border-color: transparent;\n",
              "      border-bottom-color: var(--fill-color);\n",
              "    }\n",
              "  }\n",
              "</style>\n",
              "\n",
              "  <script>\n",
              "    async function quickchart(key) {\n",
              "      const quickchartButtonEl =\n",
              "        document.querySelector('#' + key + ' button');\n",
              "      quickchartButtonEl.disabled = true;  // To prevent multiple clicks.\n",
              "      quickchartButtonEl.classList.add('colab-df-spinner');\n",
              "      try {\n",
              "        const charts = await google.colab.kernel.invokeFunction(\n",
              "            'suggestCharts', [key], {});\n",
              "      } catch (error) {\n",
              "        console.error('Error during call to suggestCharts:', error);\n",
              "      }\n",
              "      quickchartButtonEl.classList.remove('colab-df-spinner');\n",
              "      quickchartButtonEl.classList.add('colab-df-quickchart-complete');\n",
              "    }\n",
              "    (() => {\n",
              "      let quickchartButtonEl =\n",
              "        document.querySelector('#df-abc0ee8b-7077-4dd4-a6de-c22089990ab0 button');\n",
              "      quickchartButtonEl.style.display =\n",
              "        google.colab.kernel.accessAllowed ? 'block' : 'none';\n",
              "    })();\n",
              "  </script>\n",
              "</div>\n",
              "    </div>\n",
              "  </div>\n"
            ],
            "application/vnd.google.colaboratory.intrinsic+json": {
              "type": "dataframe",
              "variable_name": "data",
              "summary": "{\n  \"name\": \"data\",\n  \"rows\": 40000,\n  \"fields\": [\n    {\n      \"column\": \"text\",\n      \"properties\": {\n        \"dtype\": \"string\",\n        \"num_unique_values\": 39723,\n        \"samples\": [\n          \"There are similarities between Ray Lawrence's \\\"Jindabyne\\\" and his last movie \\\"Lantana\\\" \\u0096 a dead body and its repercussions for already dysfunctional lives. But whereas \\\"Lantana\\\" offered some hope and resolution, \\\"Jindabyne\\\" leaves everything unresolved in a bleak way that will leave most viewers unsatisfied, perhaps even cheated.<br /><br />The storyline - the aftermath of a fisherman's discovery of a corpse floating in a remote river - is based on a short story by Raymond Carver. It became an element in Robert Altman's classic 1993 ensemble \\\"Short Cuts\\\". Lawrence uses this theme for an exploration and exposition of relationships within a small Australian community under stress. The movie poses some moral questions \\\"Would you let the discovery of a dead body ruin your good weekend?\\\" and more poignantly for Australians \\\"Would it make any difference if the dead person was an aboriginal?\\\" The acting, especially by Gabriel Byrne and Laura Linney, is commendable. And there are elements of mysticism reinforced by haunting music, not unlike \\\"Picnic at Hanging Rock\\\".<br /><br />If all this sounds like the basis for a great movie - be prepared for a let down, the pace is very slow and the murder is shown near the beginning, thereby eliminating the element of mystery. And so we are left with these desolate lives and a blank finale.\",\n          \"Hammer House of Horror: Witching Time is set in rural England on Woodstock farm where stressed musician David Winter (Jon Finch) lives with his actress wife Mary (Prunella Gee) & is currently composing the music for a horror film. One night while looking for his dog Billy David finds a mysterious woman in his barn, calling herself Lucinda Jessop (Patricia Quinn) she claims to be a witch who has transported herself from 300 years in the past to now. Obviously rather sceptical David has a hard time believing her so he locks her in a room in his farmhouse & calls his doctor Charles (Ian McCulloch) to come examine her, however once he arrives & they enter the room Lucinda has disappeared. Charles puts it down to David drinking too much but over the next few day strange & disturbing things begin to happen to David & Mary...<br /><br />Witching Time was episode 1 from the short lived British anthology horror series produced by Hammer studios for TV & originally aired here in the UK during September 1980, the first of two Hammer House of Horror episodes to be directed by Don Leaver (episode 13 The Mark of Satan being the other) I actually rather liked this. As a series Hammer House of Horror dealt with various different themes & were all unconnected to each other except in name & unsurprisingly Watching Time is a sinister & effective little tale about a witch, the script by Anthony Read benefits from it's slight 50 odd minute duration & moves along at a nice pace. The character's are pretty good as is the dialogue, there are some nice scenes here & I liked the way it never quite reveals whether David & Mary are going crazy or not. I think it's a well structured, entertaining & reasonably creepy horror themed TV show that I enjoyed more than I thought I would.<br /><br />Being made for British TV meant the boys at Hammer had a lower budget than usual, if that was even possible, & as such there is no gorgeous period settings here as in their most well know Frankenstein & Dracula films although the contemporary English setting does give it a certain atmosphere that you can relate to a bit more. Another TV based restriction is that the exploitation levels are lower than you might hope for, there's some nudity & gore but not much although I didn't mind too much as the story here is pretty good. It's well made for what it is & Hammer's experience on their feature films probably helped make these look pretty good, the acting is good as well with genre favourite Ian McCulloch making a bit-part appearance.<br /><br />Witching Time is a good start to the Hammer House of Horror series, as a 50 minute piece of British TV it's pretty damned good, now why don't they make show's like this over here anymore?\",\n          \"What a great cast for this movie. The timing was excellent and there were so many clever lines-several times I was still laughing minutes after they were delivered. I found Manna From Heaven to have some surprising moments and while there were things I was thinking would happen, the way they came together was anything but predictable. This movie is about hope and righting wrongs. I left the theater feeling inspired to do the right thing. Bravo to the Five Sisters.\"\n        ],\n        \"semantic_type\": \"\",\n        \"description\": \"\"\n      }\n    },\n    {\n      \"column\": \"label\",\n      \"properties\": {\n        \"dtype\": \"number\",\n        \"std\": 0,\n        \"min\": 0,\n        \"max\": 1,\n        \"num_unique_values\": 2,\n        \"samples\": [\n          1,\n          0\n        ],\n        \"semantic_type\": \"\",\n        \"description\": \"\"\n      }\n    }\n  ]\n}"
            }
          },
          "metadata": {},
          "execution_count": 42
        }
      ]
    },
    {
      "cell_type": "code",
      "source": [
        "data.info()"
      ],
      "metadata": {
        "colab": {
          "base_uri": "https://localhost:8080/"
        },
        "id": "Dy5er8Qmt0sM",
        "outputId": "a8ef0d2e-954d-475a-f77a-e8f77b8299c1"
      },
      "execution_count": null,
      "outputs": [
        {
          "output_type": "stream",
          "name": "stdout",
          "text": [
            "<class 'pandas.core.frame.DataFrame'>\n",
            "RangeIndex: 40000 entries, 0 to 39999\n",
            "Data columns (total 2 columns):\n",
            " #   Column  Non-Null Count  Dtype \n",
            "---  ------  --------------  ----- \n",
            " 0   text    40000 non-null  object\n",
            " 1   label   40000 non-null  int64 \n",
            "dtypes: int64(1), object(1)\n",
            "memory usage: 625.1+ KB\n"
          ]
        }
      ]
    },
    {
      "cell_type": "markdown",
      "source": [
        "## Предварительная обработка текста"
      ],
      "metadata": {
        "id": "ubbOQMydSZMT"
      }
    },
    {
      "cell_type": "markdown",
      "source": [
        "Для предварительной обработки используем библиотеку `Spacy`"
      ],
      "metadata": {
        "id": "Ik7YbL5a-MKH"
      }
    },
    {
      "cell_type": "code",
      "source": [
        "import spacy\n",
        "!python -m spacy download en_core_web_md\n"
      ],
      "metadata": {
        "colab": {
          "base_uri": "https://localhost:8080/"
        },
        "id": "UavQpmbpSbby",
        "outputId": "13ce55c8-4843-4281-aa69-d70008bbe7a8"
      },
      "execution_count": null,
      "outputs": [
        {
          "output_type": "stream",
          "name": "stdout",
          "text": [
            "Collecting en-core-web-md==3.7.1\n",
            "  Downloading https://github.com/explosion/spacy-models/releases/download/en_core_web_md-3.7.1/en_core_web_md-3.7.1-py3-none-any.whl (42.8 MB)\n",
            "\u001b[2K     \u001b[90m━━━━━━━━━━━━━━━━━━━━━━━━━━━━━━━━━━━━━━━━\u001b[0m \u001b[32m42.8/42.8 MB\u001b[0m \u001b[31m7.3 MB/s\u001b[0m eta \u001b[36m0:00:00\u001b[0m\n",
            "\u001b[?25hRequirement already satisfied: spacy<3.8.0,>=3.7.2 in /usr/local/lib/python3.10/dist-packages (from en-core-web-md==3.7.1) (3.7.4)\n",
            "Requirement already satisfied: spacy-legacy<3.1.0,>=3.0.11 in /usr/local/lib/python3.10/dist-packages (from spacy<3.8.0,>=3.7.2->en-core-web-md==3.7.1) (3.0.12)\n",
            "Requirement already satisfied: spacy-loggers<2.0.0,>=1.0.0 in /usr/local/lib/python3.10/dist-packages (from spacy<3.8.0,>=3.7.2->en-core-web-md==3.7.1) (1.0.5)\n",
            "Requirement already satisfied: murmurhash<1.1.0,>=0.28.0 in /usr/local/lib/python3.10/dist-packages (from spacy<3.8.0,>=3.7.2->en-core-web-md==3.7.1) (1.0.10)\n",
            "Requirement already satisfied: cymem<2.1.0,>=2.0.2 in /usr/local/lib/python3.10/dist-packages (from spacy<3.8.0,>=3.7.2->en-core-web-md==3.7.1) (2.0.8)\n",
            "Requirement already satisfied: preshed<3.1.0,>=3.0.2 in /usr/local/lib/python3.10/dist-packages (from spacy<3.8.0,>=3.7.2->en-core-web-md==3.7.1) (3.0.9)\n",
            "Requirement already satisfied: thinc<8.3.0,>=8.2.2 in /usr/local/lib/python3.10/dist-packages (from spacy<3.8.0,>=3.7.2->en-core-web-md==3.7.1) (8.2.3)\n",
            "Requirement already satisfied: wasabi<1.2.0,>=0.9.1 in /usr/local/lib/python3.10/dist-packages (from spacy<3.8.0,>=3.7.2->en-core-web-md==3.7.1) (1.1.2)\n",
            "Requirement already satisfied: srsly<3.0.0,>=2.4.3 in /usr/local/lib/python3.10/dist-packages (from spacy<3.8.0,>=3.7.2->en-core-web-md==3.7.1) (2.4.8)\n",
            "Requirement already satisfied: catalogue<2.1.0,>=2.0.6 in /usr/local/lib/python3.10/dist-packages (from spacy<3.8.0,>=3.7.2->en-core-web-md==3.7.1) (2.0.10)\n",
            "Requirement already satisfied: weasel<0.4.0,>=0.1.0 in /usr/local/lib/python3.10/dist-packages (from spacy<3.8.0,>=3.7.2->en-core-web-md==3.7.1) (0.3.4)\n",
            "Requirement already satisfied: typer<0.10.0,>=0.3.0 in /usr/local/lib/python3.10/dist-packages (from spacy<3.8.0,>=3.7.2->en-core-web-md==3.7.1) (0.9.4)\n",
            "Requirement already satisfied: smart-open<7.0.0,>=5.2.1 in /usr/local/lib/python3.10/dist-packages (from spacy<3.8.0,>=3.7.2->en-core-web-md==3.7.1) (6.4.0)\n",
            "Requirement already satisfied: tqdm<5.0.0,>=4.38.0 in /usr/local/lib/python3.10/dist-packages (from spacy<3.8.0,>=3.7.2->en-core-web-md==3.7.1) (4.66.2)\n",
            "Requirement already satisfied: requests<3.0.0,>=2.13.0 in /usr/local/lib/python3.10/dist-packages (from spacy<3.8.0,>=3.7.2->en-core-web-md==3.7.1) (2.31.0)\n",
            "Requirement already satisfied: pydantic!=1.8,!=1.8.1,<3.0.0,>=1.7.4 in /usr/local/lib/python3.10/dist-packages (from spacy<3.8.0,>=3.7.2->en-core-web-md==3.7.1) (2.7.0)\n",
            "Requirement already satisfied: jinja2 in /usr/local/lib/python3.10/dist-packages (from spacy<3.8.0,>=3.7.2->en-core-web-md==3.7.1) (3.1.3)\n",
            "Requirement already satisfied: setuptools in /usr/local/lib/python3.10/dist-packages (from spacy<3.8.0,>=3.7.2->en-core-web-md==3.7.1) (67.7.2)\n",
            "Requirement already satisfied: packaging>=20.0 in /usr/local/lib/python3.10/dist-packages (from spacy<3.8.0,>=3.7.2->en-core-web-md==3.7.1) (24.0)\n",
            "Requirement already satisfied: langcodes<4.0.0,>=3.2.0 in /usr/local/lib/python3.10/dist-packages (from spacy<3.8.0,>=3.7.2->en-core-web-md==3.7.1) (3.3.0)\n",
            "Requirement already satisfied: numpy>=1.19.0 in /usr/local/lib/python3.10/dist-packages (from spacy<3.8.0,>=3.7.2->en-core-web-md==3.7.1) (1.25.2)\n",
            "Requirement already satisfied: annotated-types>=0.4.0 in /usr/local/lib/python3.10/dist-packages (from pydantic!=1.8,!=1.8.1,<3.0.0,>=1.7.4->spacy<3.8.0,>=3.7.2->en-core-web-md==3.7.1) (0.6.0)\n",
            "Requirement already satisfied: pydantic-core==2.18.1 in /usr/local/lib/python3.10/dist-packages (from pydantic!=1.8,!=1.8.1,<3.0.0,>=1.7.4->spacy<3.8.0,>=3.7.2->en-core-web-md==3.7.1) (2.18.1)\n",
            "Requirement already satisfied: typing-extensions>=4.6.1 in /usr/local/lib/python3.10/dist-packages (from pydantic!=1.8,!=1.8.1,<3.0.0,>=1.7.4->spacy<3.8.0,>=3.7.2->en-core-web-md==3.7.1) (4.11.0)\n",
            "Requirement already satisfied: charset-normalizer<4,>=2 in /usr/local/lib/python3.10/dist-packages (from requests<3.0.0,>=2.13.0->spacy<3.8.0,>=3.7.2->en-core-web-md==3.7.1) (3.3.2)\n",
            "Requirement already satisfied: idna<4,>=2.5 in /usr/local/lib/python3.10/dist-packages (from requests<3.0.0,>=2.13.0->spacy<3.8.0,>=3.7.2->en-core-web-md==3.7.1) (3.7)\n",
            "Requirement already satisfied: urllib3<3,>=1.21.1 in /usr/local/lib/python3.10/dist-packages (from requests<3.0.0,>=2.13.0->spacy<3.8.0,>=3.7.2->en-core-web-md==3.7.1) (2.0.7)\n",
            "Requirement already satisfied: certifi>=2017.4.17 in /usr/local/lib/python3.10/dist-packages (from requests<3.0.0,>=2.13.0->spacy<3.8.0,>=3.7.2->en-core-web-md==3.7.1) (2024.2.2)\n",
            "Requirement already satisfied: blis<0.8.0,>=0.7.8 in /usr/local/lib/python3.10/dist-packages (from thinc<8.3.0,>=8.2.2->spacy<3.8.0,>=3.7.2->en-core-web-md==3.7.1) (0.7.11)\n",
            "Requirement already satisfied: confection<1.0.0,>=0.0.1 in /usr/local/lib/python3.10/dist-packages (from thinc<8.3.0,>=8.2.2->spacy<3.8.0,>=3.7.2->en-core-web-md==3.7.1) (0.1.4)\n",
            "Requirement already satisfied: click<9.0.0,>=7.1.1 in /usr/local/lib/python3.10/dist-packages (from typer<0.10.0,>=0.3.0->spacy<3.8.0,>=3.7.2->en-core-web-md==3.7.1) (8.1.7)\n",
            "Requirement already satisfied: cloudpathlib<0.17.0,>=0.7.0 in /usr/local/lib/python3.10/dist-packages (from weasel<0.4.0,>=0.1.0->spacy<3.8.0,>=3.7.2->en-core-web-md==3.7.1) (0.16.0)\n",
            "Requirement already satisfied: MarkupSafe>=2.0 in /usr/local/lib/python3.10/dist-packages (from jinja2->spacy<3.8.0,>=3.7.2->en-core-web-md==3.7.1) (2.1.5)\n",
            "Installing collected packages: en-core-web-md\n",
            "Successfully installed en-core-web-md-3.7.1\n",
            "\u001b[38;5;2m✔ Download and installation successful\u001b[0m\n",
            "You can now load the package via spacy.load('en_core_web_md')\n",
            "\u001b[38;5;3m⚠ Restart to reload dependencies\u001b[0m\n",
            "If you are in a Jupyter or Colab notebook, you may need to restart Python in\n",
            "order to load all the package's dependencies. You can do this by selecting the\n",
            "'Restart kernel' or 'Restart runtime' option.\n"
          ]
        }
      ]
    },
    {
      "cell_type": "markdown",
      "source": [
        "Создадим функцию для обработки текста, которая удаляет лишние пробелы, приводит текст к нижнему регистру, удаляет знаки препинания и html-теги."
      ],
      "metadata": {
        "id": "hL1OLwAGTWvp"
      }
    },
    {
      "cell_type": "code",
      "source": [
        "\n",
        "import re"
      ],
      "metadata": {
        "id": "fh1_oXhYUDbY"
      },
      "execution_count": null,
      "outputs": []
    },
    {
      "cell_type": "markdown",
      "source": [
        "загрузим модель spacy"
      ],
      "metadata": {
        "id": "YSWOdhkDUOuW"
      }
    },
    {
      "cell_type": "code",
      "source": [
        "nlp = spacy.load(\"en_core_web_md\")"
      ],
      "metadata": {
        "id": "Di4rM-ilUIb8"
      },
      "execution_count": null,
      "outputs": []
    },
    {
      "cell_type": "code",
      "source": [
        "stopwords = nlp.Defaults.stop_words"
      ],
      "metadata": {
        "id": "YAMY9oGu010-"
      },
      "execution_count": null,
      "outputs": []
    },
    {
      "cell_type": "markdown",
      "source": [
        "Функция предобработки текста"
      ],
      "metadata": {
        "id": "ppX_iVmtUcoE"
      }
    },
    {
      "cell_type": "code",
      "source": [
        "import string\n",
        "def preprocess_text(text):\n",
        "    no_html = re.sub('<[^>]*>', '', text)\n",
        "    doc = nlp(no_html)\n",
        "    tokens = [token.lower_ for token in doc if token.lower_ not in stopwords and token.lower_ not in string.punctuation]\n",
        "    doc = nlp(' '.join(tokens))\n",
        "    return doc"
      ],
      "metadata": {
        "id": "wEPFbWJMUTEr"
      },
      "execution_count": null,
      "outputs": []
    },
    {
      "cell_type": "markdown",
      "source": [
        "Пример предобработанного текста"
      ],
      "metadata": {
        "id": "XjuJ0C6P-lcj"
      }
    },
    {
      "cell_type": "code",
      "source": [
        "doc = preprocess_text(data[\"text\"][0])"
      ],
      "metadata": {
        "id": "A0zrvvdKygmJ"
      },
      "execution_count": null,
      "outputs": []
    },
    {
      "cell_type": "code",
      "source": [
        "doc"
      ],
      "metadata": {
        "colab": {
          "base_uri": "https://localhost:8080/"
        },
        "id": "haetmXLX-gi9",
        "outputId": "e4268af3-1858-41e7-bb34-bdf0fb48f06e"
      },
      "execution_count": null,
      "outputs": [
        {
          "output_type": "execute_result",
          "data": {
            "text/plain": [
              "grew b. 1965 watching loving thunderbirds mates school watched played thunderbirds school lunch school wanted virgil scott wanted alan counting 5 art form took children movie hoping glimpse loved child bitterly disappointing high point snappy theme tune compare original score thunderbirds thankfully early saturday mornings television channel plays reruns series gerry anderson wife created jonatha frakes hand directors chair version completely hopeless waste film utter rubbish cgi remake acceptable replacing marionettes homo sapiens subsp sapiens huge error judgment"
            ]
          },
          "metadata": {},
          "execution_count": 75
        }
      ]
    },
    {
      "cell_type": "markdown",
      "source": [
        "Предобрабатываем все отзывы в датасете"
      ],
      "metadata": {
        "id": "HeNmtQvb-s5T"
      }
    },
    {
      "cell_type": "code",
      "source": [
        "data[\"text\"] = data[\"text\"].apply(preprocess_text)"
      ],
      "metadata": {
        "id": "2xK8wR5RUiGF"
      },
      "execution_count": null,
      "outputs": []
    },
    {
      "cell_type": "code",
      "source": [
        "data"
      ],
      "metadata": {
        "colab": {
          "base_uri": "https://localhost:8080/",
          "height": 424
        },
        "id": "1QXTcNzPv_t_",
        "outputId": "210a03cb-2dc3-446c-e3b2-aaa1b9e984d2"
      },
      "execution_count": null,
      "outputs": [
        {
          "output_type": "execute_result",
          "data": {
            "text/plain": [
              "                                                    text  label\n",
              "0      (grew, b., 1965, watching, loving, thunderbird...      0\n",
              "1      (movie, dvd, player, sat, coke, chips, expecta...      0\n",
              "2      (people, know, particular, time, past, like, f...      0\n",
              "3      (great, interest, biblical, movies, bored, dea...      0\n",
              "4      (m, die, hard, dads, army, fan, change, got, t...      1\n",
              "...                                                  ...    ...\n",
              "39995  (western, union, forgotten, classic, western, ...      1\n",
              "39996  (movie, incredible, piece, work, explores, noo...      1\n",
              "39997  (wife, watched, movie, plan, visit, sicily, st...      0\n",
              "39998  (watched, flatliners, amazed, necessary, featu...      1\n",
              "39999  (film, good, gross, estimated, 95,000,000, awa...      1\n",
              "\n",
              "[40000 rows x 2 columns]"
            ],
            "text/html": [
              "\n",
              "  <div id=\"df-9b3fa837-01d0-4828-9558-1d419233f092\" class=\"colab-df-container\">\n",
              "    <div>\n",
              "<style scoped>\n",
              "    .dataframe tbody tr th:only-of-type {\n",
              "        vertical-align: middle;\n",
              "    }\n",
              "\n",
              "    .dataframe tbody tr th {\n",
              "        vertical-align: top;\n",
              "    }\n",
              "\n",
              "    .dataframe thead th {\n",
              "        text-align: right;\n",
              "    }\n",
              "</style>\n",
              "<table border=\"1\" class=\"dataframe\">\n",
              "  <thead>\n",
              "    <tr style=\"text-align: right;\">\n",
              "      <th></th>\n",
              "      <th>text</th>\n",
              "      <th>label</th>\n",
              "    </tr>\n",
              "  </thead>\n",
              "  <tbody>\n",
              "    <tr>\n",
              "      <th>0</th>\n",
              "      <td>(grew, b., 1965, watching, loving, thunderbird...</td>\n",
              "      <td>0</td>\n",
              "    </tr>\n",
              "    <tr>\n",
              "      <th>1</th>\n",
              "      <td>(movie, dvd, player, sat, coke, chips, expecta...</td>\n",
              "      <td>0</td>\n",
              "    </tr>\n",
              "    <tr>\n",
              "      <th>2</th>\n",
              "      <td>(people, know, particular, time, past, like, f...</td>\n",
              "      <td>0</td>\n",
              "    </tr>\n",
              "    <tr>\n",
              "      <th>3</th>\n",
              "      <td>(great, interest, biblical, movies, bored, dea...</td>\n",
              "      <td>0</td>\n",
              "    </tr>\n",
              "    <tr>\n",
              "      <th>4</th>\n",
              "      <td>(m, die, hard, dads, army, fan, change, got, t...</td>\n",
              "      <td>1</td>\n",
              "    </tr>\n",
              "    <tr>\n",
              "      <th>...</th>\n",
              "      <td>...</td>\n",
              "      <td>...</td>\n",
              "    </tr>\n",
              "    <tr>\n",
              "      <th>39995</th>\n",
              "      <td>(western, union, forgotten, classic, western, ...</td>\n",
              "      <td>1</td>\n",
              "    </tr>\n",
              "    <tr>\n",
              "      <th>39996</th>\n",
              "      <td>(movie, incredible, piece, work, explores, noo...</td>\n",
              "      <td>1</td>\n",
              "    </tr>\n",
              "    <tr>\n",
              "      <th>39997</th>\n",
              "      <td>(wife, watched, movie, plan, visit, sicily, st...</td>\n",
              "      <td>0</td>\n",
              "    </tr>\n",
              "    <tr>\n",
              "      <th>39998</th>\n",
              "      <td>(watched, flatliners, amazed, necessary, featu...</td>\n",
              "      <td>1</td>\n",
              "    </tr>\n",
              "    <tr>\n",
              "      <th>39999</th>\n",
              "      <td>(film, good, gross, estimated, 95,000,000, awa...</td>\n",
              "      <td>1</td>\n",
              "    </tr>\n",
              "  </tbody>\n",
              "</table>\n",
              "<p>40000 rows × 2 columns</p>\n",
              "</div>\n",
              "    <div class=\"colab-df-buttons\">\n",
              "\n",
              "  <div class=\"colab-df-container\">\n",
              "    <button class=\"colab-df-convert\" onclick=\"convertToInteractive('df-9b3fa837-01d0-4828-9558-1d419233f092')\"\n",
              "            title=\"Convert this dataframe to an interactive table.\"\n",
              "            style=\"display:none;\">\n",
              "\n",
              "  <svg xmlns=\"http://www.w3.org/2000/svg\" height=\"24px\" viewBox=\"0 -960 960 960\">\n",
              "    <path d=\"M120-120v-720h720v720H120Zm60-500h600v-160H180v160Zm220 220h160v-160H400v160Zm0 220h160v-160H400v160ZM180-400h160v-160H180v160Zm440 0h160v-160H620v160ZM180-180h160v-160H180v160Zm440 0h160v-160H620v160Z\"/>\n",
              "  </svg>\n",
              "    </button>\n",
              "\n",
              "  <style>\n",
              "    .colab-df-container {\n",
              "      display:flex;\n",
              "      gap: 12px;\n",
              "    }\n",
              "\n",
              "    .colab-df-convert {\n",
              "      background-color: #E8F0FE;\n",
              "      border: none;\n",
              "      border-radius: 50%;\n",
              "      cursor: pointer;\n",
              "      display: none;\n",
              "      fill: #1967D2;\n",
              "      height: 32px;\n",
              "      padding: 0 0 0 0;\n",
              "      width: 32px;\n",
              "    }\n",
              "\n",
              "    .colab-df-convert:hover {\n",
              "      background-color: #E2EBFA;\n",
              "      box-shadow: 0px 1px 2px rgba(60, 64, 67, 0.3), 0px 1px 3px 1px rgba(60, 64, 67, 0.15);\n",
              "      fill: #174EA6;\n",
              "    }\n",
              "\n",
              "    .colab-df-buttons div {\n",
              "      margin-bottom: 4px;\n",
              "    }\n",
              "\n",
              "    [theme=dark] .colab-df-convert {\n",
              "      background-color: #3B4455;\n",
              "      fill: #D2E3FC;\n",
              "    }\n",
              "\n",
              "    [theme=dark] .colab-df-convert:hover {\n",
              "      background-color: #434B5C;\n",
              "      box-shadow: 0px 1px 3px 1px rgba(0, 0, 0, 0.15);\n",
              "      filter: drop-shadow(0px 1px 2px rgba(0, 0, 0, 0.3));\n",
              "      fill: #FFFFFF;\n",
              "    }\n",
              "  </style>\n",
              "\n",
              "    <script>\n",
              "      const buttonEl =\n",
              "        document.querySelector('#df-9b3fa837-01d0-4828-9558-1d419233f092 button.colab-df-convert');\n",
              "      buttonEl.style.display =\n",
              "        google.colab.kernel.accessAllowed ? 'block' : 'none';\n",
              "\n",
              "      async function convertToInteractive(key) {\n",
              "        const element = document.querySelector('#df-9b3fa837-01d0-4828-9558-1d419233f092');\n",
              "        const dataTable =\n",
              "          await google.colab.kernel.invokeFunction('convertToInteractive',\n",
              "                                                    [key], {});\n",
              "        if (!dataTable) return;\n",
              "\n",
              "        const docLinkHtml = 'Like what you see? Visit the ' +\n",
              "          '<a target=\"_blank\" href=https://colab.research.google.com/notebooks/data_table.ipynb>data table notebook</a>'\n",
              "          + ' to learn more about interactive tables.';\n",
              "        element.innerHTML = '';\n",
              "        dataTable['output_type'] = 'display_data';\n",
              "        await google.colab.output.renderOutput(dataTable, element);\n",
              "        const docLink = document.createElement('div');\n",
              "        docLink.innerHTML = docLinkHtml;\n",
              "        element.appendChild(docLink);\n",
              "      }\n",
              "    </script>\n",
              "  </div>\n",
              "\n",
              "\n",
              "<div id=\"df-0f826dad-8b99-4dc2-ac99-1d5e6ccb75a9\">\n",
              "  <button class=\"colab-df-quickchart\" onclick=\"quickchart('df-0f826dad-8b99-4dc2-ac99-1d5e6ccb75a9')\"\n",
              "            title=\"Suggest charts\"\n",
              "            style=\"display:none;\">\n",
              "\n",
              "<svg xmlns=\"http://www.w3.org/2000/svg\" height=\"24px\"viewBox=\"0 0 24 24\"\n",
              "     width=\"24px\">\n",
              "    <g>\n",
              "        <path d=\"M19 3H5c-1.1 0-2 .9-2 2v14c0 1.1.9 2 2 2h14c1.1 0 2-.9 2-2V5c0-1.1-.9-2-2-2zM9 17H7v-7h2v7zm4 0h-2V7h2v10zm4 0h-2v-4h2v4z\"/>\n",
              "    </g>\n",
              "</svg>\n",
              "  </button>\n",
              "\n",
              "<style>\n",
              "  .colab-df-quickchart {\n",
              "      --bg-color: #E8F0FE;\n",
              "      --fill-color: #1967D2;\n",
              "      --hover-bg-color: #E2EBFA;\n",
              "      --hover-fill-color: #174EA6;\n",
              "      --disabled-fill-color: #AAA;\n",
              "      --disabled-bg-color: #DDD;\n",
              "  }\n",
              "\n",
              "  [theme=dark] .colab-df-quickchart {\n",
              "      --bg-color: #3B4455;\n",
              "      --fill-color: #D2E3FC;\n",
              "      --hover-bg-color: #434B5C;\n",
              "      --hover-fill-color: #FFFFFF;\n",
              "      --disabled-bg-color: #3B4455;\n",
              "      --disabled-fill-color: #666;\n",
              "  }\n",
              "\n",
              "  .colab-df-quickchart {\n",
              "    background-color: var(--bg-color);\n",
              "    border: none;\n",
              "    border-radius: 50%;\n",
              "    cursor: pointer;\n",
              "    display: none;\n",
              "    fill: var(--fill-color);\n",
              "    height: 32px;\n",
              "    padding: 0;\n",
              "    width: 32px;\n",
              "  }\n",
              "\n",
              "  .colab-df-quickchart:hover {\n",
              "    background-color: var(--hover-bg-color);\n",
              "    box-shadow: 0 1px 2px rgba(60, 64, 67, 0.3), 0 1px 3px 1px rgba(60, 64, 67, 0.15);\n",
              "    fill: var(--button-hover-fill-color);\n",
              "  }\n",
              "\n",
              "  .colab-df-quickchart-complete:disabled,\n",
              "  .colab-df-quickchart-complete:disabled:hover {\n",
              "    background-color: var(--disabled-bg-color);\n",
              "    fill: var(--disabled-fill-color);\n",
              "    box-shadow: none;\n",
              "  }\n",
              "\n",
              "  .colab-df-spinner {\n",
              "    border: 2px solid var(--fill-color);\n",
              "    border-color: transparent;\n",
              "    border-bottom-color: var(--fill-color);\n",
              "    animation:\n",
              "      spin 1s steps(1) infinite;\n",
              "  }\n",
              "\n",
              "  @keyframes spin {\n",
              "    0% {\n",
              "      border-color: transparent;\n",
              "      border-bottom-color: var(--fill-color);\n",
              "      border-left-color: var(--fill-color);\n",
              "    }\n",
              "    20% {\n",
              "      border-color: transparent;\n",
              "      border-left-color: var(--fill-color);\n",
              "      border-top-color: var(--fill-color);\n",
              "    }\n",
              "    30% {\n",
              "      border-color: transparent;\n",
              "      border-left-color: var(--fill-color);\n",
              "      border-top-color: var(--fill-color);\n",
              "      border-right-color: var(--fill-color);\n",
              "    }\n",
              "    40% {\n",
              "      border-color: transparent;\n",
              "      border-right-color: var(--fill-color);\n",
              "      border-top-color: var(--fill-color);\n",
              "    }\n",
              "    60% {\n",
              "      border-color: transparent;\n",
              "      border-right-color: var(--fill-color);\n",
              "    }\n",
              "    80% {\n",
              "      border-color: transparent;\n",
              "      border-right-color: var(--fill-color);\n",
              "      border-bottom-color: var(--fill-color);\n",
              "    }\n",
              "    90% {\n",
              "      border-color: transparent;\n",
              "      border-bottom-color: var(--fill-color);\n",
              "    }\n",
              "  }\n",
              "</style>\n",
              "\n",
              "  <script>\n",
              "    async function quickchart(key) {\n",
              "      const quickchartButtonEl =\n",
              "        document.querySelector('#' + key + ' button');\n",
              "      quickchartButtonEl.disabled = true;  // To prevent multiple clicks.\n",
              "      quickchartButtonEl.classList.add('colab-df-spinner');\n",
              "      try {\n",
              "        const charts = await google.colab.kernel.invokeFunction(\n",
              "            'suggestCharts', [key], {});\n",
              "      } catch (error) {\n",
              "        console.error('Error during call to suggestCharts:', error);\n",
              "      }\n",
              "      quickchartButtonEl.classList.remove('colab-df-spinner');\n",
              "      quickchartButtonEl.classList.add('colab-df-quickchart-complete');\n",
              "    }\n",
              "    (() => {\n",
              "      let quickchartButtonEl =\n",
              "        document.querySelector('#df-0f826dad-8b99-4dc2-ac99-1d5e6ccb75a9 button');\n",
              "      quickchartButtonEl.style.display =\n",
              "        google.colab.kernel.accessAllowed ? 'block' : 'none';\n",
              "    })();\n",
              "  </script>\n",
              "</div>\n",
              "    </div>\n",
              "  </div>\n"
            ],
            "application/vnd.google.colaboratory.intrinsic+json": {
              "type": "dataframe",
              "variable_name": "data",
              "summary": "{\n  \"name\": \"data\",\n  \"rows\": 40000,\n  \"fields\": [\n    {\n      \"column\": \"text\",\n      \"properties\": {\n        \"dtype\": \"string\",\n        \"num_unique_values\": 40000,\n        \"samples\": [\n          \"central theme movie confusion relationships setting acting social context lead place confusion harvey keitel appears element lacks usual impeccable clarity direction intensity matters worse character che told directly narrator film che guy named che family relationships remain unclear end film defined family divided younger generation america clich\\u00e9 reviews discuss movie depicts impact revolution boy family political stance director murky best sure responsible bloodshed lost property acquired gambling profits refusing political stand making movie cuban revolution odd cowardly choice mention movie english cubans speaking english wonder permission film cuba family life important look great figure introduced beginning cheap way making relationships clear film acting shallow wooden unbelievable timing special visual effects confusing distracting references american films black character greek chorus strictly gratuitous intellectually ostentatious consistently place watched movie waiting clarity point happened\",\n          \"excellent example cowboy noir called unemployed michael nicolas cage loses job insists honest got bum leg decides going lie walks bar owner wayne late great j.t. walsh mistakes hit man wayne hired sexy young wife suzanne lara flynn boyle fine form michael plays accepts waynes money goes suzanne informs husbands intentions accepts money rid wayne complicate things real hit man lyle dallas dennis hopper perfect role shows michael trouble \\\"red rock west gets lot locations director john dahl co wrote script brother rick smart realizing potential story set truly isolated small town seen better days residents involved manner schemes amusing idea kind trouble honest person decided abandon principles level temptation appreciably dark twist laden story assortment main characters corrupt morally compromised like michael lighting cinematographer marc reshovsky superb moodiness climax set graveyard lends nice morbid quality thing writing particularly logical credible film nice way intriguing viewer drawing right cage good job lead co stars grand old time sinking teeth meaty greed motivated characters hopper boyle walsh fun watch parts timothy carhart dan shor fine walshs deputies especially good twist walsh local sheriff entertaining cameo role country western star dwight yoakam graces film enjoyable end credits tune good little film worth checking moves forward impressive pace certainly boring.8/10\",\n          \"ending heart jump throat proceeded leave movie theater little jittery nearly midnight movie better expected know long theaters money anticipated definitely recommend\"\n        ],\n        \"semantic_type\": \"\",\n        \"description\": \"\"\n      }\n    },\n    {\n      \"column\": \"label\",\n      \"properties\": {\n        \"dtype\": \"number\",\n        \"std\": 0,\n        \"min\": 0,\n        \"max\": 1,\n        \"num_unique_values\": 2,\n        \"samples\": [\n          1,\n          0\n        ],\n        \"semantic_type\": \"\",\n        \"description\": \"\"\n      }\n    }\n  ]\n}"
            }
          },
          "metadata": {},
          "execution_count": 87
        }
      ]
    },
    {
      "cell_type": "markdown",
      "source": [
        "Сохраняем dataFrame, чтобы не ожидать опять 50 минут"
      ],
      "metadata": {
        "id": "8tOI9UtwCDou"
      }
    },
    {
      "cell_type": "code",
      "source": [
        "data.to_csv('preprocessed_data.csv')\n"
      ],
      "metadata": {
        "id": "pnWVteETB81M"
      },
      "execution_count": null,
      "outputs": []
    },
    {
      "cell_type": "markdown",
      "source": [
        "### Векторизация"
      ],
      "metadata": {
        "id": "xc_dvj3_DSGl"
      }
    },
    {
      "cell_type": "markdown",
      "source": [
        "Загружаем предобработанный датасет, чтобы провести векторизацию"
      ],
      "metadata": {
        "id": "XKLPNCSV-2gA"
      }
    },
    {
      "cell_type": "code",
      "source": [
        "data = pd.read_csv(\"/content/drive/MyDrive/preprocessed_data.csv\")"
      ],
      "metadata": {
        "id": "ZgYsYLtJDZEQ"
      },
      "execution_count": null,
      "outputs": []
    },
    {
      "cell_type": "code",
      "source": [
        "data"
      ],
      "metadata": {
        "colab": {
          "base_uri": "https://localhost:8080/",
          "height": 424
        },
        "id": "Lwp8by1ODjPs",
        "outputId": "3aecfdfb-8e7c-4fee-8d62-090765a1532f"
      },
      "execution_count": null,
      "outputs": [
        {
          "output_type": "execute_result",
          "data": {
            "text/plain": [
              "       Unnamed: 0                                               text  label\n",
              "0               0  grew b. 1965 watching loving thunderbirds mate...      0\n",
              "1               1  movie dvd player sat coke chips expectations h...      0\n",
              "2               2  people know particular time past like feel nee...      0\n",
              "3               3  great interest biblical movies bored death min...      0\n",
              "4               4  m die hard dads army fan change got tapes dvd ...      1\n",
              "...           ...                                                ...    ...\n",
              "39995       39995  western union forgotten classic western reason...      1\n",
              "39996       39996  movie incredible piece work explores nook cran...      1\n",
              "39997       39997  wife watched movie plan visit sicily stromboli...      0\n",
              "39998       39998  watched flatliners amazed necessary features g...      1\n",
              "39999       39999  film good gross estimated 95,000,000 award nom...      1\n",
              "\n",
              "[40000 rows x 3 columns]"
            ],
            "text/html": [
              "\n",
              "  <div id=\"df-5445808f-7ad2-4256-adf3-b68b0cbf6896\" class=\"colab-df-container\">\n",
              "    <div>\n",
              "<style scoped>\n",
              "    .dataframe tbody tr th:only-of-type {\n",
              "        vertical-align: middle;\n",
              "    }\n",
              "\n",
              "    .dataframe tbody tr th {\n",
              "        vertical-align: top;\n",
              "    }\n",
              "\n",
              "    .dataframe thead th {\n",
              "        text-align: right;\n",
              "    }\n",
              "</style>\n",
              "<table border=\"1\" class=\"dataframe\">\n",
              "  <thead>\n",
              "    <tr style=\"text-align: right;\">\n",
              "      <th></th>\n",
              "      <th>Unnamed: 0</th>\n",
              "      <th>text</th>\n",
              "      <th>label</th>\n",
              "    </tr>\n",
              "  </thead>\n",
              "  <tbody>\n",
              "    <tr>\n",
              "      <th>0</th>\n",
              "      <td>0</td>\n",
              "      <td>grew b. 1965 watching loving thunderbirds mate...</td>\n",
              "      <td>0</td>\n",
              "    </tr>\n",
              "    <tr>\n",
              "      <th>1</th>\n",
              "      <td>1</td>\n",
              "      <td>movie dvd player sat coke chips expectations h...</td>\n",
              "      <td>0</td>\n",
              "    </tr>\n",
              "    <tr>\n",
              "      <th>2</th>\n",
              "      <td>2</td>\n",
              "      <td>people know particular time past like feel nee...</td>\n",
              "      <td>0</td>\n",
              "    </tr>\n",
              "    <tr>\n",
              "      <th>3</th>\n",
              "      <td>3</td>\n",
              "      <td>great interest biblical movies bored death min...</td>\n",
              "      <td>0</td>\n",
              "    </tr>\n",
              "    <tr>\n",
              "      <th>4</th>\n",
              "      <td>4</td>\n",
              "      <td>m die hard dads army fan change got tapes dvd ...</td>\n",
              "      <td>1</td>\n",
              "    </tr>\n",
              "    <tr>\n",
              "      <th>...</th>\n",
              "      <td>...</td>\n",
              "      <td>...</td>\n",
              "      <td>...</td>\n",
              "    </tr>\n",
              "    <tr>\n",
              "      <th>39995</th>\n",
              "      <td>39995</td>\n",
              "      <td>western union forgotten classic western reason...</td>\n",
              "      <td>1</td>\n",
              "    </tr>\n",
              "    <tr>\n",
              "      <th>39996</th>\n",
              "      <td>39996</td>\n",
              "      <td>movie incredible piece work explores nook cran...</td>\n",
              "      <td>1</td>\n",
              "    </tr>\n",
              "    <tr>\n",
              "      <th>39997</th>\n",
              "      <td>39997</td>\n",
              "      <td>wife watched movie plan visit sicily stromboli...</td>\n",
              "      <td>0</td>\n",
              "    </tr>\n",
              "    <tr>\n",
              "      <th>39998</th>\n",
              "      <td>39998</td>\n",
              "      <td>watched flatliners amazed necessary features g...</td>\n",
              "      <td>1</td>\n",
              "    </tr>\n",
              "    <tr>\n",
              "      <th>39999</th>\n",
              "      <td>39999</td>\n",
              "      <td>film good gross estimated 95,000,000 award nom...</td>\n",
              "      <td>1</td>\n",
              "    </tr>\n",
              "  </tbody>\n",
              "</table>\n",
              "<p>40000 rows × 3 columns</p>\n",
              "</div>\n",
              "    <div class=\"colab-df-buttons\">\n",
              "\n",
              "  <div class=\"colab-df-container\">\n",
              "    <button class=\"colab-df-convert\" onclick=\"convertToInteractive('df-5445808f-7ad2-4256-adf3-b68b0cbf6896')\"\n",
              "            title=\"Convert this dataframe to an interactive table.\"\n",
              "            style=\"display:none;\">\n",
              "\n",
              "  <svg xmlns=\"http://www.w3.org/2000/svg\" height=\"24px\" viewBox=\"0 -960 960 960\">\n",
              "    <path d=\"M120-120v-720h720v720H120Zm60-500h600v-160H180v160Zm220 220h160v-160H400v160Zm0 220h160v-160H400v160ZM180-400h160v-160H180v160Zm440 0h160v-160H620v160ZM180-180h160v-160H180v160Zm440 0h160v-160H620v160Z\"/>\n",
              "  </svg>\n",
              "    </button>\n",
              "\n",
              "  <style>\n",
              "    .colab-df-container {\n",
              "      display:flex;\n",
              "      gap: 12px;\n",
              "    }\n",
              "\n",
              "    .colab-df-convert {\n",
              "      background-color: #E8F0FE;\n",
              "      border: none;\n",
              "      border-radius: 50%;\n",
              "      cursor: pointer;\n",
              "      display: none;\n",
              "      fill: #1967D2;\n",
              "      height: 32px;\n",
              "      padding: 0 0 0 0;\n",
              "      width: 32px;\n",
              "    }\n",
              "\n",
              "    .colab-df-convert:hover {\n",
              "      background-color: #E2EBFA;\n",
              "      box-shadow: 0px 1px 2px rgba(60, 64, 67, 0.3), 0px 1px 3px 1px rgba(60, 64, 67, 0.15);\n",
              "      fill: #174EA6;\n",
              "    }\n",
              "\n",
              "    .colab-df-buttons div {\n",
              "      margin-bottom: 4px;\n",
              "    }\n",
              "\n",
              "    [theme=dark] .colab-df-convert {\n",
              "      background-color: #3B4455;\n",
              "      fill: #D2E3FC;\n",
              "    }\n",
              "\n",
              "    [theme=dark] .colab-df-convert:hover {\n",
              "      background-color: #434B5C;\n",
              "      box-shadow: 0px 1px 3px 1px rgba(0, 0, 0, 0.15);\n",
              "      filter: drop-shadow(0px 1px 2px rgba(0, 0, 0, 0.3));\n",
              "      fill: #FFFFFF;\n",
              "    }\n",
              "  </style>\n",
              "\n",
              "    <script>\n",
              "      const buttonEl =\n",
              "        document.querySelector('#df-5445808f-7ad2-4256-adf3-b68b0cbf6896 button.colab-df-convert');\n",
              "      buttonEl.style.display =\n",
              "        google.colab.kernel.accessAllowed ? 'block' : 'none';\n",
              "\n",
              "      async function convertToInteractive(key) {\n",
              "        const element = document.querySelector('#df-5445808f-7ad2-4256-adf3-b68b0cbf6896');\n",
              "        const dataTable =\n",
              "          await google.colab.kernel.invokeFunction('convertToInteractive',\n",
              "                                                    [key], {});\n",
              "        if (!dataTable) return;\n",
              "\n",
              "        const docLinkHtml = 'Like what you see? Visit the ' +\n",
              "          '<a target=\"_blank\" href=https://colab.research.google.com/notebooks/data_table.ipynb>data table notebook</a>'\n",
              "          + ' to learn more about interactive tables.';\n",
              "        element.innerHTML = '';\n",
              "        dataTable['output_type'] = 'display_data';\n",
              "        await google.colab.output.renderOutput(dataTable, element);\n",
              "        const docLink = document.createElement('div');\n",
              "        docLink.innerHTML = docLinkHtml;\n",
              "        element.appendChild(docLink);\n",
              "      }\n",
              "    </script>\n",
              "  </div>\n",
              "\n",
              "\n",
              "<div id=\"df-83bfff27-a821-4710-8555-2a987962adce\">\n",
              "  <button class=\"colab-df-quickchart\" onclick=\"quickchart('df-83bfff27-a821-4710-8555-2a987962adce')\"\n",
              "            title=\"Suggest charts\"\n",
              "            style=\"display:none;\">\n",
              "\n",
              "<svg xmlns=\"http://www.w3.org/2000/svg\" height=\"24px\"viewBox=\"0 0 24 24\"\n",
              "     width=\"24px\">\n",
              "    <g>\n",
              "        <path d=\"M19 3H5c-1.1 0-2 .9-2 2v14c0 1.1.9 2 2 2h14c1.1 0 2-.9 2-2V5c0-1.1-.9-2-2-2zM9 17H7v-7h2v7zm4 0h-2V7h2v10zm4 0h-2v-4h2v4z\"/>\n",
              "    </g>\n",
              "</svg>\n",
              "  </button>\n",
              "\n",
              "<style>\n",
              "  .colab-df-quickchart {\n",
              "      --bg-color: #E8F0FE;\n",
              "      --fill-color: #1967D2;\n",
              "      --hover-bg-color: #E2EBFA;\n",
              "      --hover-fill-color: #174EA6;\n",
              "      --disabled-fill-color: #AAA;\n",
              "      --disabled-bg-color: #DDD;\n",
              "  }\n",
              "\n",
              "  [theme=dark] .colab-df-quickchart {\n",
              "      --bg-color: #3B4455;\n",
              "      --fill-color: #D2E3FC;\n",
              "      --hover-bg-color: #434B5C;\n",
              "      --hover-fill-color: #FFFFFF;\n",
              "      --disabled-bg-color: #3B4455;\n",
              "      --disabled-fill-color: #666;\n",
              "  }\n",
              "\n",
              "  .colab-df-quickchart {\n",
              "    background-color: var(--bg-color);\n",
              "    border: none;\n",
              "    border-radius: 50%;\n",
              "    cursor: pointer;\n",
              "    display: none;\n",
              "    fill: var(--fill-color);\n",
              "    height: 32px;\n",
              "    padding: 0;\n",
              "    width: 32px;\n",
              "  }\n",
              "\n",
              "  .colab-df-quickchart:hover {\n",
              "    background-color: var(--hover-bg-color);\n",
              "    box-shadow: 0 1px 2px rgba(60, 64, 67, 0.3), 0 1px 3px 1px rgba(60, 64, 67, 0.15);\n",
              "    fill: var(--button-hover-fill-color);\n",
              "  }\n",
              "\n",
              "  .colab-df-quickchart-complete:disabled,\n",
              "  .colab-df-quickchart-complete:disabled:hover {\n",
              "    background-color: var(--disabled-bg-color);\n",
              "    fill: var(--disabled-fill-color);\n",
              "    box-shadow: none;\n",
              "  }\n",
              "\n",
              "  .colab-df-spinner {\n",
              "    border: 2px solid var(--fill-color);\n",
              "    border-color: transparent;\n",
              "    border-bottom-color: var(--fill-color);\n",
              "    animation:\n",
              "      spin 1s steps(1) infinite;\n",
              "  }\n",
              "\n",
              "  @keyframes spin {\n",
              "    0% {\n",
              "      border-color: transparent;\n",
              "      border-bottom-color: var(--fill-color);\n",
              "      border-left-color: var(--fill-color);\n",
              "    }\n",
              "    20% {\n",
              "      border-color: transparent;\n",
              "      border-left-color: var(--fill-color);\n",
              "      border-top-color: var(--fill-color);\n",
              "    }\n",
              "    30% {\n",
              "      border-color: transparent;\n",
              "      border-left-color: var(--fill-color);\n",
              "      border-top-color: var(--fill-color);\n",
              "      border-right-color: var(--fill-color);\n",
              "    }\n",
              "    40% {\n",
              "      border-color: transparent;\n",
              "      border-right-color: var(--fill-color);\n",
              "      border-top-color: var(--fill-color);\n",
              "    }\n",
              "    60% {\n",
              "      border-color: transparent;\n",
              "      border-right-color: var(--fill-color);\n",
              "    }\n",
              "    80% {\n",
              "      border-color: transparent;\n",
              "      border-right-color: var(--fill-color);\n",
              "      border-bottom-color: var(--fill-color);\n",
              "    }\n",
              "    90% {\n",
              "      border-color: transparent;\n",
              "      border-bottom-color: var(--fill-color);\n",
              "    }\n",
              "  }\n",
              "</style>\n",
              "\n",
              "  <script>\n",
              "    async function quickchart(key) {\n",
              "      const quickchartButtonEl =\n",
              "        document.querySelector('#' + key + ' button');\n",
              "      quickchartButtonEl.disabled = true;  // To prevent multiple clicks.\n",
              "      quickchartButtonEl.classList.add('colab-df-spinner');\n",
              "      try {\n",
              "        const charts = await google.colab.kernel.invokeFunction(\n",
              "            'suggestCharts', [key], {});\n",
              "      } catch (error) {\n",
              "        console.error('Error during call to suggestCharts:', error);\n",
              "      }\n",
              "      quickchartButtonEl.classList.remove('colab-df-spinner');\n",
              "      quickchartButtonEl.classList.add('colab-df-quickchart-complete');\n",
              "    }\n",
              "    (() => {\n",
              "      let quickchartButtonEl =\n",
              "        document.querySelector('#df-83bfff27-a821-4710-8555-2a987962adce button');\n",
              "      quickchartButtonEl.style.display =\n",
              "        google.colab.kernel.accessAllowed ? 'block' : 'none';\n",
              "    })();\n",
              "  </script>\n",
              "</div>\n",
              "    </div>\n",
              "  </div>\n"
            ],
            "application/vnd.google.colaboratory.intrinsic+json": {
              "type": "dataframe",
              "variable_name": "data",
              "summary": "{\n  \"name\": \"data\",\n  \"rows\": 40000,\n  \"fields\": [\n    {\n      \"column\": \"Unnamed: 0\",\n      \"properties\": {\n        \"dtype\": \"number\",\n        \"std\": 11547,\n        \"min\": 0,\n        \"max\": 39999,\n        \"num_unique_values\": 40000,\n        \"samples\": [\n          32823,\n          16298,\n          28505\n        ],\n        \"semantic_type\": \"\",\n        \"description\": \"\"\n      }\n    },\n    {\n      \"column\": \"text\",\n      \"properties\": {\n        \"dtype\": \"string\",\n        \"num_unique_values\": 39720,\n        \"samples\": [\n          \"bit distrust watching british period films usually find insipid boring screenplays ones example vanity fair boleyn girl magnificent production design european landscapes thick british accents movies suggest artistic value fortunately excellent film young victoria fall situation deserves enthusiastic recommendation fascinating story excellent performances emily blunt paul bettany jim broadbent costumes locations unexpectedly movie pretty rich view unexpectedly usually pay attention details \\\"victorian era humble opinion key points contemporary civilization social aspect scientific artistic cultural ones honestly know origins era maybe enjoyed simplification political economic events prepared landing modern era liked way queen victoria portrayed young intelligent monarch decisions good inspired good intentions found depiction romance victoria prince albert interesting equally interested combination intellects emotions evokes fail found movie screenwriter julian fellowes clich\\u00e9s romantic cinema love story feels bit place screenplay liked young victoria took nice surprise hope period films follow example movie costumes landscapes work support interesting story replacement\",\n          \"roll wonderful little film toby malone plays 18 year old kid acted way soccer malone cousin takes night big game adventure twists turns involving gym bags drug lord tough bikers cops prostitutes ... movie keeps guessing characters law contents gym bag gender key biker parts reminded lock stock smoking barrels roll reinforced opinions held seeing roll opinions 1 want visit australia day country cities beautiful looks like cool place vacation.2 best filmmakers australian cinematography roll especially impressive loved stylized colors lighting scenes.3 australian women hot\",\n          \"worst movie produced worst plot worst acting worst special effects ... prepared want watch way enjoyment light match burn tape knowing fall hands sane person\"\n        ],\n        \"semantic_type\": \"\",\n        \"description\": \"\"\n      }\n    },\n    {\n      \"column\": \"label\",\n      \"properties\": {\n        \"dtype\": \"number\",\n        \"std\": 0,\n        \"min\": 0,\n        \"max\": 1,\n        \"num_unique_values\": 2,\n        \"samples\": [\n          1,\n          0\n        ],\n        \"semantic_type\": \"\",\n        \"description\": \"\"\n      }\n    }\n  ]\n}"
            }
          },
          "metadata": {},
          "execution_count": 94
        }
      ]
    },
    {
      "cell_type": "markdown",
      "source": [
        "Производим векторизацию"
      ],
      "metadata": {
        "id": "Unf_e3j5-_Xi"
      }
    },
    {
      "cell_type": "code",
      "source": [
        "\n",
        "vector_data = data[\"text\"].apply(lambda x: nlp(x).vector)\n",
        "vector_df = pd.DataFrame(vector_data.tolist())\n",
        "vector_df[\"label\"] = data[\"label\"]"
      ],
      "metadata": {
        "id": "icu7n0IuEgRl"
      },
      "execution_count": null,
      "outputs": []
    },
    {
      "cell_type": "code",
      "source": [
        "vector_df"
      ],
      "metadata": {
        "colab": {
          "base_uri": "https://localhost:8080/",
          "height": 444
        },
        "id": "wTSwBGxFJsHa",
        "outputId": "ecfc6414-3f3a-4770-89fa-ccb683872c0b"
      },
      "execution_count": null,
      "outputs": [
        {
          "output_type": "execute_result",
          "data": {
            "text/plain": [
              "              0         1         2         3         4         5         6  \\\n",
              "0     -0.871645 -0.430100 -1.073666 -0.944334  1.518533 -0.093973  1.669416   \n",
              "1     -0.713353  0.470564 -1.594450 -1.351791  0.824423 -0.025467  2.303139   \n",
              "2     -0.288987  1.059520 -2.245722 -1.098926  1.110138  0.262550  2.221195   \n",
              "3     -0.405503  0.018113 -2.041562 -1.733175  0.815001  0.617408  3.438051   \n",
              "4     -1.764627  0.691709 -1.786582 -0.072980  0.673429  0.327447  1.559824   \n",
              "...         ...       ...       ...       ...       ...       ...       ...   \n",
              "39995 -1.385540 -0.198968 -1.105264 -0.497864  2.005416 -0.005844  1.528528   \n",
              "39996 -0.598984  0.391464 -2.700500 -1.396669  1.656050  0.037552  2.004149   \n",
              "39997 -0.609162  0.216183 -1.486869 -0.900911  1.798035  0.262957  1.842131   \n",
              "39998 -0.819432 -0.241855 -1.452400 -0.882431  1.580851  0.102532  1.758079   \n",
              "39999 -0.235010  0.152676 -1.837812 -1.196848  1.426505  0.360087  1.488953   \n",
              "\n",
              "              7         8         9  ...       291       292       293  \\\n",
              "0      2.325221 -0.520216 -1.117904  ... -1.019608 -0.091769 -0.816661   \n",
              "1      2.642055 -1.017740 -1.157883  ... -2.035710  1.346446 -0.870832   \n",
              "2      2.376752 -1.545332  0.060500  ... -1.591914  0.702041 -1.073112   \n",
              "3      2.739913 -1.115116 -1.074689  ... -2.629650  1.895674 -1.450702   \n",
              "4      3.157531 -1.300503 -0.194128  ... -0.738894  0.543954 -0.784695   \n",
              "...         ...       ...       ...  ...       ...       ...       ...   \n",
              "39995  2.386731 -0.061181 -0.241087  ... -0.561735 -0.244790  0.097415   \n",
              "39996  2.711235 -1.530571 -0.069772  ... -1.060708  0.557538 -1.419123   \n",
              "39997  2.557925 -0.794474 -0.478319  ... -0.923001  0.772843 -0.447056   \n",
              "39998  2.773324 -1.210347 -0.925331  ... -0.974321  0.414229 -0.872755   \n",
              "39999  2.333211 -0.670647  0.237871  ... -0.874499  1.179634 -0.610437   \n",
              "\n",
              "            294       295       296       297       298       299  label  \n",
              "0     -0.982368 -0.173001  1.371957  0.009018 -1.984979  0.354836      0  \n",
              "1     -0.870715 -0.553346  1.146265 -0.081462 -2.684102  0.589193      0  \n",
              "2     -1.548260 -1.086844  0.614631  0.634947 -2.550878  0.885854      0  \n",
              "3     -2.041648 -0.727359  1.678415 -0.325667 -2.843422  0.642146      0  \n",
              "4     -1.404450 -0.333272  0.724944 -0.576640 -2.180638  0.767356      1  \n",
              "...         ...       ...       ...       ...       ...       ...    ...  \n",
              "39995 -1.194441 -0.029732  0.595430 -0.909249 -1.601974  0.870139      1  \n",
              "39996 -1.698128 -0.597780  1.209037 -0.290790 -3.055120  0.877108      1  \n",
              "39997 -0.717039 -0.052584  1.022664 -0.802176 -1.877582  0.780510      0  \n",
              "39998 -0.513764 -0.106388  0.629593  0.154499 -1.948813  0.835868      1  \n",
              "39999 -0.901517 -1.101182  0.598310  0.870646 -1.807194  0.791689      1  \n",
              "\n",
              "[40000 rows x 301 columns]"
            ],
            "text/html": [
              "\n",
              "  <div id=\"df-b9622503-418c-4db4-9ee8-a64814b7af25\" class=\"colab-df-container\">\n",
              "    <div>\n",
              "<style scoped>\n",
              "    .dataframe tbody tr th:only-of-type {\n",
              "        vertical-align: middle;\n",
              "    }\n",
              "\n",
              "    .dataframe tbody tr th {\n",
              "        vertical-align: top;\n",
              "    }\n",
              "\n",
              "    .dataframe thead th {\n",
              "        text-align: right;\n",
              "    }\n",
              "</style>\n",
              "<table border=\"1\" class=\"dataframe\">\n",
              "  <thead>\n",
              "    <tr style=\"text-align: right;\">\n",
              "      <th></th>\n",
              "      <th>0</th>\n",
              "      <th>1</th>\n",
              "      <th>2</th>\n",
              "      <th>3</th>\n",
              "      <th>4</th>\n",
              "      <th>5</th>\n",
              "      <th>6</th>\n",
              "      <th>7</th>\n",
              "      <th>8</th>\n",
              "      <th>9</th>\n",
              "      <th>...</th>\n",
              "      <th>291</th>\n",
              "      <th>292</th>\n",
              "      <th>293</th>\n",
              "      <th>294</th>\n",
              "      <th>295</th>\n",
              "      <th>296</th>\n",
              "      <th>297</th>\n",
              "      <th>298</th>\n",
              "      <th>299</th>\n",
              "      <th>label</th>\n",
              "    </tr>\n",
              "  </thead>\n",
              "  <tbody>\n",
              "    <tr>\n",
              "      <th>0</th>\n",
              "      <td>-0.871645</td>\n",
              "      <td>-0.430100</td>\n",
              "      <td>-1.073666</td>\n",
              "      <td>-0.944334</td>\n",
              "      <td>1.518533</td>\n",
              "      <td>-0.093973</td>\n",
              "      <td>1.669416</td>\n",
              "      <td>2.325221</td>\n",
              "      <td>-0.520216</td>\n",
              "      <td>-1.117904</td>\n",
              "      <td>...</td>\n",
              "      <td>-1.019608</td>\n",
              "      <td>-0.091769</td>\n",
              "      <td>-0.816661</td>\n",
              "      <td>-0.982368</td>\n",
              "      <td>-0.173001</td>\n",
              "      <td>1.371957</td>\n",
              "      <td>0.009018</td>\n",
              "      <td>-1.984979</td>\n",
              "      <td>0.354836</td>\n",
              "      <td>0</td>\n",
              "    </tr>\n",
              "    <tr>\n",
              "      <th>1</th>\n",
              "      <td>-0.713353</td>\n",
              "      <td>0.470564</td>\n",
              "      <td>-1.594450</td>\n",
              "      <td>-1.351791</td>\n",
              "      <td>0.824423</td>\n",
              "      <td>-0.025467</td>\n",
              "      <td>2.303139</td>\n",
              "      <td>2.642055</td>\n",
              "      <td>-1.017740</td>\n",
              "      <td>-1.157883</td>\n",
              "      <td>...</td>\n",
              "      <td>-2.035710</td>\n",
              "      <td>1.346446</td>\n",
              "      <td>-0.870832</td>\n",
              "      <td>-0.870715</td>\n",
              "      <td>-0.553346</td>\n",
              "      <td>1.146265</td>\n",
              "      <td>-0.081462</td>\n",
              "      <td>-2.684102</td>\n",
              "      <td>0.589193</td>\n",
              "      <td>0</td>\n",
              "    </tr>\n",
              "    <tr>\n",
              "      <th>2</th>\n",
              "      <td>-0.288987</td>\n",
              "      <td>1.059520</td>\n",
              "      <td>-2.245722</td>\n",
              "      <td>-1.098926</td>\n",
              "      <td>1.110138</td>\n",
              "      <td>0.262550</td>\n",
              "      <td>2.221195</td>\n",
              "      <td>2.376752</td>\n",
              "      <td>-1.545332</td>\n",
              "      <td>0.060500</td>\n",
              "      <td>...</td>\n",
              "      <td>-1.591914</td>\n",
              "      <td>0.702041</td>\n",
              "      <td>-1.073112</td>\n",
              "      <td>-1.548260</td>\n",
              "      <td>-1.086844</td>\n",
              "      <td>0.614631</td>\n",
              "      <td>0.634947</td>\n",
              "      <td>-2.550878</td>\n",
              "      <td>0.885854</td>\n",
              "      <td>0</td>\n",
              "    </tr>\n",
              "    <tr>\n",
              "      <th>3</th>\n",
              "      <td>-0.405503</td>\n",
              "      <td>0.018113</td>\n",
              "      <td>-2.041562</td>\n",
              "      <td>-1.733175</td>\n",
              "      <td>0.815001</td>\n",
              "      <td>0.617408</td>\n",
              "      <td>3.438051</td>\n",
              "      <td>2.739913</td>\n",
              "      <td>-1.115116</td>\n",
              "      <td>-1.074689</td>\n",
              "      <td>...</td>\n",
              "      <td>-2.629650</td>\n",
              "      <td>1.895674</td>\n",
              "      <td>-1.450702</td>\n",
              "      <td>-2.041648</td>\n",
              "      <td>-0.727359</td>\n",
              "      <td>1.678415</td>\n",
              "      <td>-0.325667</td>\n",
              "      <td>-2.843422</td>\n",
              "      <td>0.642146</td>\n",
              "      <td>0</td>\n",
              "    </tr>\n",
              "    <tr>\n",
              "      <th>4</th>\n",
              "      <td>-1.764627</td>\n",
              "      <td>0.691709</td>\n",
              "      <td>-1.786582</td>\n",
              "      <td>-0.072980</td>\n",
              "      <td>0.673429</td>\n",
              "      <td>0.327447</td>\n",
              "      <td>1.559824</td>\n",
              "      <td>3.157531</td>\n",
              "      <td>-1.300503</td>\n",
              "      <td>-0.194128</td>\n",
              "      <td>...</td>\n",
              "      <td>-0.738894</td>\n",
              "      <td>0.543954</td>\n",
              "      <td>-0.784695</td>\n",
              "      <td>-1.404450</td>\n",
              "      <td>-0.333272</td>\n",
              "      <td>0.724944</td>\n",
              "      <td>-0.576640</td>\n",
              "      <td>-2.180638</td>\n",
              "      <td>0.767356</td>\n",
              "      <td>1</td>\n",
              "    </tr>\n",
              "    <tr>\n",
              "      <th>...</th>\n",
              "      <td>...</td>\n",
              "      <td>...</td>\n",
              "      <td>...</td>\n",
              "      <td>...</td>\n",
              "      <td>...</td>\n",
              "      <td>...</td>\n",
              "      <td>...</td>\n",
              "      <td>...</td>\n",
              "      <td>...</td>\n",
              "      <td>...</td>\n",
              "      <td>...</td>\n",
              "      <td>...</td>\n",
              "      <td>...</td>\n",
              "      <td>...</td>\n",
              "      <td>...</td>\n",
              "      <td>...</td>\n",
              "      <td>...</td>\n",
              "      <td>...</td>\n",
              "      <td>...</td>\n",
              "      <td>...</td>\n",
              "      <td>...</td>\n",
              "    </tr>\n",
              "    <tr>\n",
              "      <th>39995</th>\n",
              "      <td>-1.385540</td>\n",
              "      <td>-0.198968</td>\n",
              "      <td>-1.105264</td>\n",
              "      <td>-0.497864</td>\n",
              "      <td>2.005416</td>\n",
              "      <td>-0.005844</td>\n",
              "      <td>1.528528</td>\n",
              "      <td>2.386731</td>\n",
              "      <td>-0.061181</td>\n",
              "      <td>-0.241087</td>\n",
              "      <td>...</td>\n",
              "      <td>-0.561735</td>\n",
              "      <td>-0.244790</td>\n",
              "      <td>0.097415</td>\n",
              "      <td>-1.194441</td>\n",
              "      <td>-0.029732</td>\n",
              "      <td>0.595430</td>\n",
              "      <td>-0.909249</td>\n",
              "      <td>-1.601974</td>\n",
              "      <td>0.870139</td>\n",
              "      <td>1</td>\n",
              "    </tr>\n",
              "    <tr>\n",
              "      <th>39996</th>\n",
              "      <td>-0.598984</td>\n",
              "      <td>0.391464</td>\n",
              "      <td>-2.700500</td>\n",
              "      <td>-1.396669</td>\n",
              "      <td>1.656050</td>\n",
              "      <td>0.037552</td>\n",
              "      <td>2.004149</td>\n",
              "      <td>2.711235</td>\n",
              "      <td>-1.530571</td>\n",
              "      <td>-0.069772</td>\n",
              "      <td>...</td>\n",
              "      <td>-1.060708</td>\n",
              "      <td>0.557538</td>\n",
              "      <td>-1.419123</td>\n",
              "      <td>-1.698128</td>\n",
              "      <td>-0.597780</td>\n",
              "      <td>1.209037</td>\n",
              "      <td>-0.290790</td>\n",
              "      <td>-3.055120</td>\n",
              "      <td>0.877108</td>\n",
              "      <td>1</td>\n",
              "    </tr>\n",
              "    <tr>\n",
              "      <th>39997</th>\n",
              "      <td>-0.609162</td>\n",
              "      <td>0.216183</td>\n",
              "      <td>-1.486869</td>\n",
              "      <td>-0.900911</td>\n",
              "      <td>1.798035</td>\n",
              "      <td>0.262957</td>\n",
              "      <td>1.842131</td>\n",
              "      <td>2.557925</td>\n",
              "      <td>-0.794474</td>\n",
              "      <td>-0.478319</td>\n",
              "      <td>...</td>\n",
              "      <td>-0.923001</td>\n",
              "      <td>0.772843</td>\n",
              "      <td>-0.447056</td>\n",
              "      <td>-0.717039</td>\n",
              "      <td>-0.052584</td>\n",
              "      <td>1.022664</td>\n",
              "      <td>-0.802176</td>\n",
              "      <td>-1.877582</td>\n",
              "      <td>0.780510</td>\n",
              "      <td>0</td>\n",
              "    </tr>\n",
              "    <tr>\n",
              "      <th>39998</th>\n",
              "      <td>-0.819432</td>\n",
              "      <td>-0.241855</td>\n",
              "      <td>-1.452400</td>\n",
              "      <td>-0.882431</td>\n",
              "      <td>1.580851</td>\n",
              "      <td>0.102532</td>\n",
              "      <td>1.758079</td>\n",
              "      <td>2.773324</td>\n",
              "      <td>-1.210347</td>\n",
              "      <td>-0.925331</td>\n",
              "      <td>...</td>\n",
              "      <td>-0.974321</td>\n",
              "      <td>0.414229</td>\n",
              "      <td>-0.872755</td>\n",
              "      <td>-0.513764</td>\n",
              "      <td>-0.106388</td>\n",
              "      <td>0.629593</td>\n",
              "      <td>0.154499</td>\n",
              "      <td>-1.948813</td>\n",
              "      <td>0.835868</td>\n",
              "      <td>1</td>\n",
              "    </tr>\n",
              "    <tr>\n",
              "      <th>39999</th>\n",
              "      <td>-0.235010</td>\n",
              "      <td>0.152676</td>\n",
              "      <td>-1.837812</td>\n",
              "      <td>-1.196848</td>\n",
              "      <td>1.426505</td>\n",
              "      <td>0.360087</td>\n",
              "      <td>1.488953</td>\n",
              "      <td>2.333211</td>\n",
              "      <td>-0.670647</td>\n",
              "      <td>0.237871</td>\n",
              "      <td>...</td>\n",
              "      <td>-0.874499</td>\n",
              "      <td>1.179634</td>\n",
              "      <td>-0.610437</td>\n",
              "      <td>-0.901517</td>\n",
              "      <td>-1.101182</td>\n",
              "      <td>0.598310</td>\n",
              "      <td>0.870646</td>\n",
              "      <td>-1.807194</td>\n",
              "      <td>0.791689</td>\n",
              "      <td>1</td>\n",
              "    </tr>\n",
              "  </tbody>\n",
              "</table>\n",
              "<p>40000 rows × 301 columns</p>\n",
              "</div>\n",
              "    <div class=\"colab-df-buttons\">\n",
              "\n",
              "  <div class=\"colab-df-container\">\n",
              "    <button class=\"colab-df-convert\" onclick=\"convertToInteractive('df-b9622503-418c-4db4-9ee8-a64814b7af25')\"\n",
              "            title=\"Convert this dataframe to an interactive table.\"\n",
              "            style=\"display:none;\">\n",
              "\n",
              "  <svg xmlns=\"http://www.w3.org/2000/svg\" height=\"24px\" viewBox=\"0 -960 960 960\">\n",
              "    <path d=\"M120-120v-720h720v720H120Zm60-500h600v-160H180v160Zm220 220h160v-160H400v160Zm0 220h160v-160H400v160ZM180-400h160v-160H180v160Zm440 0h160v-160H620v160ZM180-180h160v-160H180v160Zm440 0h160v-160H620v160Z\"/>\n",
              "  </svg>\n",
              "    </button>\n",
              "\n",
              "  <style>\n",
              "    .colab-df-container {\n",
              "      display:flex;\n",
              "      gap: 12px;\n",
              "    }\n",
              "\n",
              "    .colab-df-convert {\n",
              "      background-color: #E8F0FE;\n",
              "      border: none;\n",
              "      border-radius: 50%;\n",
              "      cursor: pointer;\n",
              "      display: none;\n",
              "      fill: #1967D2;\n",
              "      height: 32px;\n",
              "      padding: 0 0 0 0;\n",
              "      width: 32px;\n",
              "    }\n",
              "\n",
              "    .colab-df-convert:hover {\n",
              "      background-color: #E2EBFA;\n",
              "      box-shadow: 0px 1px 2px rgba(60, 64, 67, 0.3), 0px 1px 3px 1px rgba(60, 64, 67, 0.15);\n",
              "      fill: #174EA6;\n",
              "    }\n",
              "\n",
              "    .colab-df-buttons div {\n",
              "      margin-bottom: 4px;\n",
              "    }\n",
              "\n",
              "    [theme=dark] .colab-df-convert {\n",
              "      background-color: #3B4455;\n",
              "      fill: #D2E3FC;\n",
              "    }\n",
              "\n",
              "    [theme=dark] .colab-df-convert:hover {\n",
              "      background-color: #434B5C;\n",
              "      box-shadow: 0px 1px 3px 1px rgba(0, 0, 0, 0.15);\n",
              "      filter: drop-shadow(0px 1px 2px rgba(0, 0, 0, 0.3));\n",
              "      fill: #FFFFFF;\n",
              "    }\n",
              "  </style>\n",
              "\n",
              "    <script>\n",
              "      const buttonEl =\n",
              "        document.querySelector('#df-b9622503-418c-4db4-9ee8-a64814b7af25 button.colab-df-convert');\n",
              "      buttonEl.style.display =\n",
              "        google.colab.kernel.accessAllowed ? 'block' : 'none';\n",
              "\n",
              "      async function convertToInteractive(key) {\n",
              "        const element = document.querySelector('#df-b9622503-418c-4db4-9ee8-a64814b7af25');\n",
              "        const dataTable =\n",
              "          await google.colab.kernel.invokeFunction('convertToInteractive',\n",
              "                                                    [key], {});\n",
              "        if (!dataTable) return;\n",
              "\n",
              "        const docLinkHtml = 'Like what you see? Visit the ' +\n",
              "          '<a target=\"_blank\" href=https://colab.research.google.com/notebooks/data_table.ipynb>data table notebook</a>'\n",
              "          + ' to learn more about interactive tables.';\n",
              "        element.innerHTML = '';\n",
              "        dataTable['output_type'] = 'display_data';\n",
              "        await google.colab.output.renderOutput(dataTable, element);\n",
              "        const docLink = document.createElement('div');\n",
              "        docLink.innerHTML = docLinkHtml;\n",
              "        element.appendChild(docLink);\n",
              "      }\n",
              "    </script>\n",
              "  </div>\n",
              "\n",
              "\n",
              "<div id=\"df-f9fb1cbf-1cb6-48ad-9216-1b41420901d0\">\n",
              "  <button class=\"colab-df-quickchart\" onclick=\"quickchart('df-f9fb1cbf-1cb6-48ad-9216-1b41420901d0')\"\n",
              "            title=\"Suggest charts\"\n",
              "            style=\"display:none;\">\n",
              "\n",
              "<svg xmlns=\"http://www.w3.org/2000/svg\" height=\"24px\"viewBox=\"0 0 24 24\"\n",
              "     width=\"24px\">\n",
              "    <g>\n",
              "        <path d=\"M19 3H5c-1.1 0-2 .9-2 2v14c0 1.1.9 2 2 2h14c1.1 0 2-.9 2-2V5c0-1.1-.9-2-2-2zM9 17H7v-7h2v7zm4 0h-2V7h2v10zm4 0h-2v-4h2v4z\"/>\n",
              "    </g>\n",
              "</svg>\n",
              "  </button>\n",
              "\n",
              "<style>\n",
              "  .colab-df-quickchart {\n",
              "      --bg-color: #E8F0FE;\n",
              "      --fill-color: #1967D2;\n",
              "      --hover-bg-color: #E2EBFA;\n",
              "      --hover-fill-color: #174EA6;\n",
              "      --disabled-fill-color: #AAA;\n",
              "      --disabled-bg-color: #DDD;\n",
              "  }\n",
              "\n",
              "  [theme=dark] .colab-df-quickchart {\n",
              "      --bg-color: #3B4455;\n",
              "      --fill-color: #D2E3FC;\n",
              "      --hover-bg-color: #434B5C;\n",
              "      --hover-fill-color: #FFFFFF;\n",
              "      --disabled-bg-color: #3B4455;\n",
              "      --disabled-fill-color: #666;\n",
              "  }\n",
              "\n",
              "  .colab-df-quickchart {\n",
              "    background-color: var(--bg-color);\n",
              "    border: none;\n",
              "    border-radius: 50%;\n",
              "    cursor: pointer;\n",
              "    display: none;\n",
              "    fill: var(--fill-color);\n",
              "    height: 32px;\n",
              "    padding: 0;\n",
              "    width: 32px;\n",
              "  }\n",
              "\n",
              "  .colab-df-quickchart:hover {\n",
              "    background-color: var(--hover-bg-color);\n",
              "    box-shadow: 0 1px 2px rgba(60, 64, 67, 0.3), 0 1px 3px 1px rgba(60, 64, 67, 0.15);\n",
              "    fill: var(--button-hover-fill-color);\n",
              "  }\n",
              "\n",
              "  .colab-df-quickchart-complete:disabled,\n",
              "  .colab-df-quickchart-complete:disabled:hover {\n",
              "    background-color: var(--disabled-bg-color);\n",
              "    fill: var(--disabled-fill-color);\n",
              "    box-shadow: none;\n",
              "  }\n",
              "\n",
              "  .colab-df-spinner {\n",
              "    border: 2px solid var(--fill-color);\n",
              "    border-color: transparent;\n",
              "    border-bottom-color: var(--fill-color);\n",
              "    animation:\n",
              "      spin 1s steps(1) infinite;\n",
              "  }\n",
              "\n",
              "  @keyframes spin {\n",
              "    0% {\n",
              "      border-color: transparent;\n",
              "      border-bottom-color: var(--fill-color);\n",
              "      border-left-color: var(--fill-color);\n",
              "    }\n",
              "    20% {\n",
              "      border-color: transparent;\n",
              "      border-left-color: var(--fill-color);\n",
              "      border-top-color: var(--fill-color);\n",
              "    }\n",
              "    30% {\n",
              "      border-color: transparent;\n",
              "      border-left-color: var(--fill-color);\n",
              "      border-top-color: var(--fill-color);\n",
              "      border-right-color: var(--fill-color);\n",
              "    }\n",
              "    40% {\n",
              "      border-color: transparent;\n",
              "      border-right-color: var(--fill-color);\n",
              "      border-top-color: var(--fill-color);\n",
              "    }\n",
              "    60% {\n",
              "      border-color: transparent;\n",
              "      border-right-color: var(--fill-color);\n",
              "    }\n",
              "    80% {\n",
              "      border-color: transparent;\n",
              "      border-right-color: var(--fill-color);\n",
              "      border-bottom-color: var(--fill-color);\n",
              "    }\n",
              "    90% {\n",
              "      border-color: transparent;\n",
              "      border-bottom-color: var(--fill-color);\n",
              "    }\n",
              "  }\n",
              "</style>\n",
              "\n",
              "  <script>\n",
              "    async function quickchart(key) {\n",
              "      const quickchartButtonEl =\n",
              "        document.querySelector('#' + key + ' button');\n",
              "      quickchartButtonEl.disabled = true;  // To prevent multiple clicks.\n",
              "      quickchartButtonEl.classList.add('colab-df-spinner');\n",
              "      try {\n",
              "        const charts = await google.colab.kernel.invokeFunction(\n",
              "            'suggestCharts', [key], {});\n",
              "      } catch (error) {\n",
              "        console.error('Error during call to suggestCharts:', error);\n",
              "      }\n",
              "      quickchartButtonEl.classList.remove('colab-df-spinner');\n",
              "      quickchartButtonEl.classList.add('colab-df-quickchart-complete');\n",
              "    }\n",
              "    (() => {\n",
              "      let quickchartButtonEl =\n",
              "        document.querySelector('#df-f9fb1cbf-1cb6-48ad-9216-1b41420901d0 button');\n",
              "      quickchartButtonEl.style.display =\n",
              "        google.colab.kernel.accessAllowed ? 'block' : 'none';\n",
              "    })();\n",
              "  </script>\n",
              "</div>\n",
              "    </div>\n",
              "  </div>\n"
            ],
            "application/vnd.google.colaboratory.intrinsic+json": {
              "type": "dataframe",
              "variable_name": "vector_df"
            }
          },
          "metadata": {},
          "execution_count": 95
        }
      ]
    },
    {
      "cell_type": "markdown",
      "source": [
        "Сохраняем полностью предобработанный датасет"
      ],
      "metadata": {
        "id": "f7G2Wz_D_DIK"
      }
    },
    {
      "cell_type": "code",
      "source": [
        "vector_df.to_csv(\"vector_data.csv\")"
      ],
      "metadata": {
        "id": "x_5sqC71L1QL"
      },
      "execution_count": null,
      "outputs": []
    },
    {
      "cell_type": "markdown",
      "source": [
        "## Модель"
      ],
      "metadata": {
        "id": "4HSQ1L2UJ7tF"
      }
    },
    {
      "cell_type": "markdown",
      "source": [
        "Загружаем датасет и подготавливаем данные для обучения модели"
      ],
      "metadata": {
        "id": "rbanzTpv_MJW"
      }
    },
    {
      "cell_type": "code",
      "source": [
        "import pandas as pd"
      ],
      "metadata": {
        "id": "TI_4mtE8oohv"
      },
      "execution_count": 5,
      "outputs": []
    },
    {
      "cell_type": "code",
      "source": [
        "vector_df = pd.read_csv(\"/content/drive/MyDrive/vector_data.csv\")"
      ],
      "metadata": {
        "id": "qyEmC6EIofLR"
      },
      "execution_count": 6,
      "outputs": []
    },
    {
      "cell_type": "code",
      "source": [
        "from sklearn.model_selection import train_test_split\n",
        "\n",
        "# Выделим признаки X и целевой признак y\n",
        "X = vector_df.drop(columns=[\"label\",\"Unnamed: 0\"])\n",
        "y = vector_df[\"label\"]\n",
        "\n",
        "# Делим на обучающую и тестовую выборку\n",
        "X_train, X_test, y_train, y_test = train_test_split(X, y, stratify=y)"
      ],
      "metadata": {
        "id": "fGbGOcBPJ-dS"
      },
      "execution_count": 7,
      "outputs": []
    },
    {
      "cell_type": "code",
      "source": [
        "from sklearn.metrics import confusion_matrix, classification_report"
      ],
      "metadata": {
        "id": "3e4o4sCH_T7T"
      },
      "execution_count": 8,
      "outputs": []
    },
    {
      "cell_type": "code",
      "source": [
        "X"
      ],
      "metadata": {
        "id": "tmvq2Z4Vm6fd",
        "colab": {
          "base_uri": "https://localhost:8080/",
          "height": 444
        },
        "outputId": "35799e89-c809-4f54-8fbc-8f326edb3b3b"
      },
      "execution_count": null,
      "outputs": [
        {
          "output_type": "execute_result",
          "data": {
            "text/plain": [
              "              0         1         2         3         4         5         6  \\\n",
              "0     -0.871645 -0.430100 -1.073666 -0.944334  1.518533 -0.093973  1.669416   \n",
              "1     -0.713353  0.470564 -1.594450 -1.351791  0.824423 -0.025467  2.303139   \n",
              "2     -0.288987  1.059520 -2.245722 -1.098926  1.110138  0.262550  2.221195   \n",
              "3     -0.405503  0.018113 -2.041562 -1.733175  0.815001  0.617408  3.438051   \n",
              "4     -1.764627  0.691709 -1.786582 -0.072980  0.673429  0.327447  1.559824   \n",
              "...         ...       ...       ...       ...       ...       ...       ...   \n",
              "39995 -1.385540 -0.198968 -1.105264 -0.497864  2.005416 -0.005844  1.528528   \n",
              "39996 -0.598984  0.391464 -2.700500 -1.396669  1.656050  0.037552  2.004149   \n",
              "39997 -0.609162  0.216183 -1.486869 -0.900911  1.798035  0.262957  1.842131   \n",
              "39998 -0.819432 -0.241855 -1.452400 -0.882431  1.580851  0.102532  1.758079   \n",
              "39999 -0.235010  0.152676 -1.837812 -1.196848  1.426505  0.360087  1.488953   \n",
              "\n",
              "              7         8         9  ...       290       291       292  \\\n",
              "0      2.325221 -0.520216 -1.117904  ...  1.089962 -1.019608 -0.091769   \n",
              "1      2.642055 -1.017740 -1.157883  ...  0.830295 -2.035710  1.346446   \n",
              "2      2.376752 -1.545332  0.060500  ...  1.168662 -1.591914  0.702041   \n",
              "3      2.739913 -1.115116 -1.074689  ...  0.654298 -2.629650  1.895674   \n",
              "4      3.157531 -1.300503 -0.194128  ...  0.781413 -0.738894  0.543954   \n",
              "...         ...       ...       ...  ...       ...       ...       ...   \n",
              "39995  2.386731 -0.061181 -0.241087  ...  0.617657 -0.561735 -0.244790   \n",
              "39996  2.711235 -1.530571 -0.069772  ...  1.015295 -1.060708  0.557538   \n",
              "39997  2.557925 -0.794474 -0.478319  ...  0.957901 -0.923001  0.772843   \n",
              "39998  2.773325 -1.210347 -0.925331  ...  0.868978 -0.974321  0.414229   \n",
              "39999  2.333211 -0.670647  0.237871  ... -0.183255 -0.874499  1.179634   \n",
              "\n",
              "            293       294       295       296       297       298       299  \n",
              "0     -0.816661 -0.982368 -0.173001  1.371957  0.009018 -1.984979  0.354836  \n",
              "1     -0.870832 -0.870715 -0.553346  1.146265 -0.081462 -2.684102  0.589193  \n",
              "2     -1.073112 -1.548260 -1.086844  0.614631  0.634947 -2.550878  0.885854  \n",
              "3     -1.450702 -2.041648 -0.727359  1.678415 -0.325667 -2.843422  0.642146  \n",
              "4     -0.784695 -1.404450 -0.333272  0.724944 -0.576640 -2.180638  0.767356  \n",
              "...         ...       ...       ...       ...       ...       ...       ...  \n",
              "39995  0.097415 -1.194441 -0.029732  0.595430 -0.909249 -1.601974  0.870139  \n",
              "39996 -1.419123 -1.698128 -0.597780  1.209037 -0.290790 -3.055119  0.877108  \n",
              "39997 -0.447056 -0.717039 -0.052584  1.022664 -0.802176 -1.877582  0.780510  \n",
              "39998 -0.872755 -0.513764 -0.106388  0.629593  0.154499 -1.948813  0.835868  \n",
              "39999 -0.610437 -0.901517 -1.101182  0.598310  0.870646 -1.807194  0.791689  \n",
              "\n",
              "[40000 rows x 300 columns]"
            ],
            "text/html": [
              "\n",
              "  <div id=\"df-79aeef78-22ba-4912-b4ab-956404a25595\" class=\"colab-df-container\">\n",
              "    <div>\n",
              "<style scoped>\n",
              "    .dataframe tbody tr th:only-of-type {\n",
              "        vertical-align: middle;\n",
              "    }\n",
              "\n",
              "    .dataframe tbody tr th {\n",
              "        vertical-align: top;\n",
              "    }\n",
              "\n",
              "    .dataframe thead th {\n",
              "        text-align: right;\n",
              "    }\n",
              "</style>\n",
              "<table border=\"1\" class=\"dataframe\">\n",
              "  <thead>\n",
              "    <tr style=\"text-align: right;\">\n",
              "      <th></th>\n",
              "      <th>0</th>\n",
              "      <th>1</th>\n",
              "      <th>2</th>\n",
              "      <th>3</th>\n",
              "      <th>4</th>\n",
              "      <th>5</th>\n",
              "      <th>6</th>\n",
              "      <th>7</th>\n",
              "      <th>8</th>\n",
              "      <th>9</th>\n",
              "      <th>...</th>\n",
              "      <th>290</th>\n",
              "      <th>291</th>\n",
              "      <th>292</th>\n",
              "      <th>293</th>\n",
              "      <th>294</th>\n",
              "      <th>295</th>\n",
              "      <th>296</th>\n",
              "      <th>297</th>\n",
              "      <th>298</th>\n",
              "      <th>299</th>\n",
              "    </tr>\n",
              "  </thead>\n",
              "  <tbody>\n",
              "    <tr>\n",
              "      <th>0</th>\n",
              "      <td>-0.871645</td>\n",
              "      <td>-0.430100</td>\n",
              "      <td>-1.073666</td>\n",
              "      <td>-0.944334</td>\n",
              "      <td>1.518533</td>\n",
              "      <td>-0.093973</td>\n",
              "      <td>1.669416</td>\n",
              "      <td>2.325221</td>\n",
              "      <td>-0.520216</td>\n",
              "      <td>-1.117904</td>\n",
              "      <td>...</td>\n",
              "      <td>1.089962</td>\n",
              "      <td>-1.019608</td>\n",
              "      <td>-0.091769</td>\n",
              "      <td>-0.816661</td>\n",
              "      <td>-0.982368</td>\n",
              "      <td>-0.173001</td>\n",
              "      <td>1.371957</td>\n",
              "      <td>0.009018</td>\n",
              "      <td>-1.984979</td>\n",
              "      <td>0.354836</td>\n",
              "    </tr>\n",
              "    <tr>\n",
              "      <th>1</th>\n",
              "      <td>-0.713353</td>\n",
              "      <td>0.470564</td>\n",
              "      <td>-1.594450</td>\n",
              "      <td>-1.351791</td>\n",
              "      <td>0.824423</td>\n",
              "      <td>-0.025467</td>\n",
              "      <td>2.303139</td>\n",
              "      <td>2.642055</td>\n",
              "      <td>-1.017740</td>\n",
              "      <td>-1.157883</td>\n",
              "      <td>...</td>\n",
              "      <td>0.830295</td>\n",
              "      <td>-2.035710</td>\n",
              "      <td>1.346446</td>\n",
              "      <td>-0.870832</td>\n",
              "      <td>-0.870715</td>\n",
              "      <td>-0.553346</td>\n",
              "      <td>1.146265</td>\n",
              "      <td>-0.081462</td>\n",
              "      <td>-2.684102</td>\n",
              "      <td>0.589193</td>\n",
              "    </tr>\n",
              "    <tr>\n",
              "      <th>2</th>\n",
              "      <td>-0.288987</td>\n",
              "      <td>1.059520</td>\n",
              "      <td>-2.245722</td>\n",
              "      <td>-1.098926</td>\n",
              "      <td>1.110138</td>\n",
              "      <td>0.262550</td>\n",
              "      <td>2.221195</td>\n",
              "      <td>2.376752</td>\n",
              "      <td>-1.545332</td>\n",
              "      <td>0.060500</td>\n",
              "      <td>...</td>\n",
              "      <td>1.168662</td>\n",
              "      <td>-1.591914</td>\n",
              "      <td>0.702041</td>\n",
              "      <td>-1.073112</td>\n",
              "      <td>-1.548260</td>\n",
              "      <td>-1.086844</td>\n",
              "      <td>0.614631</td>\n",
              "      <td>0.634947</td>\n",
              "      <td>-2.550878</td>\n",
              "      <td>0.885854</td>\n",
              "    </tr>\n",
              "    <tr>\n",
              "      <th>3</th>\n",
              "      <td>-0.405503</td>\n",
              "      <td>0.018113</td>\n",
              "      <td>-2.041562</td>\n",
              "      <td>-1.733175</td>\n",
              "      <td>0.815001</td>\n",
              "      <td>0.617408</td>\n",
              "      <td>3.438051</td>\n",
              "      <td>2.739913</td>\n",
              "      <td>-1.115116</td>\n",
              "      <td>-1.074689</td>\n",
              "      <td>...</td>\n",
              "      <td>0.654298</td>\n",
              "      <td>-2.629650</td>\n",
              "      <td>1.895674</td>\n",
              "      <td>-1.450702</td>\n",
              "      <td>-2.041648</td>\n",
              "      <td>-0.727359</td>\n",
              "      <td>1.678415</td>\n",
              "      <td>-0.325667</td>\n",
              "      <td>-2.843422</td>\n",
              "      <td>0.642146</td>\n",
              "    </tr>\n",
              "    <tr>\n",
              "      <th>4</th>\n",
              "      <td>-1.764627</td>\n",
              "      <td>0.691709</td>\n",
              "      <td>-1.786582</td>\n",
              "      <td>-0.072980</td>\n",
              "      <td>0.673429</td>\n",
              "      <td>0.327447</td>\n",
              "      <td>1.559824</td>\n",
              "      <td>3.157531</td>\n",
              "      <td>-1.300503</td>\n",
              "      <td>-0.194128</td>\n",
              "      <td>...</td>\n",
              "      <td>0.781413</td>\n",
              "      <td>-0.738894</td>\n",
              "      <td>0.543954</td>\n",
              "      <td>-0.784695</td>\n",
              "      <td>-1.404450</td>\n",
              "      <td>-0.333272</td>\n",
              "      <td>0.724944</td>\n",
              "      <td>-0.576640</td>\n",
              "      <td>-2.180638</td>\n",
              "      <td>0.767356</td>\n",
              "    </tr>\n",
              "    <tr>\n",
              "      <th>...</th>\n",
              "      <td>...</td>\n",
              "      <td>...</td>\n",
              "      <td>...</td>\n",
              "      <td>...</td>\n",
              "      <td>...</td>\n",
              "      <td>...</td>\n",
              "      <td>...</td>\n",
              "      <td>...</td>\n",
              "      <td>...</td>\n",
              "      <td>...</td>\n",
              "      <td>...</td>\n",
              "      <td>...</td>\n",
              "      <td>...</td>\n",
              "      <td>...</td>\n",
              "      <td>...</td>\n",
              "      <td>...</td>\n",
              "      <td>...</td>\n",
              "      <td>...</td>\n",
              "      <td>...</td>\n",
              "      <td>...</td>\n",
              "      <td>...</td>\n",
              "    </tr>\n",
              "    <tr>\n",
              "      <th>39995</th>\n",
              "      <td>-1.385540</td>\n",
              "      <td>-0.198968</td>\n",
              "      <td>-1.105264</td>\n",
              "      <td>-0.497864</td>\n",
              "      <td>2.005416</td>\n",
              "      <td>-0.005844</td>\n",
              "      <td>1.528528</td>\n",
              "      <td>2.386731</td>\n",
              "      <td>-0.061181</td>\n",
              "      <td>-0.241087</td>\n",
              "      <td>...</td>\n",
              "      <td>0.617657</td>\n",
              "      <td>-0.561735</td>\n",
              "      <td>-0.244790</td>\n",
              "      <td>0.097415</td>\n",
              "      <td>-1.194441</td>\n",
              "      <td>-0.029732</td>\n",
              "      <td>0.595430</td>\n",
              "      <td>-0.909249</td>\n",
              "      <td>-1.601974</td>\n",
              "      <td>0.870139</td>\n",
              "    </tr>\n",
              "    <tr>\n",
              "      <th>39996</th>\n",
              "      <td>-0.598984</td>\n",
              "      <td>0.391464</td>\n",
              "      <td>-2.700500</td>\n",
              "      <td>-1.396669</td>\n",
              "      <td>1.656050</td>\n",
              "      <td>0.037552</td>\n",
              "      <td>2.004149</td>\n",
              "      <td>2.711235</td>\n",
              "      <td>-1.530571</td>\n",
              "      <td>-0.069772</td>\n",
              "      <td>...</td>\n",
              "      <td>1.015295</td>\n",
              "      <td>-1.060708</td>\n",
              "      <td>0.557538</td>\n",
              "      <td>-1.419123</td>\n",
              "      <td>-1.698128</td>\n",
              "      <td>-0.597780</td>\n",
              "      <td>1.209037</td>\n",
              "      <td>-0.290790</td>\n",
              "      <td>-3.055119</td>\n",
              "      <td>0.877108</td>\n",
              "    </tr>\n",
              "    <tr>\n",
              "      <th>39997</th>\n",
              "      <td>-0.609162</td>\n",
              "      <td>0.216183</td>\n",
              "      <td>-1.486869</td>\n",
              "      <td>-0.900911</td>\n",
              "      <td>1.798035</td>\n",
              "      <td>0.262957</td>\n",
              "      <td>1.842131</td>\n",
              "      <td>2.557925</td>\n",
              "      <td>-0.794474</td>\n",
              "      <td>-0.478319</td>\n",
              "      <td>...</td>\n",
              "      <td>0.957901</td>\n",
              "      <td>-0.923001</td>\n",
              "      <td>0.772843</td>\n",
              "      <td>-0.447056</td>\n",
              "      <td>-0.717039</td>\n",
              "      <td>-0.052584</td>\n",
              "      <td>1.022664</td>\n",
              "      <td>-0.802176</td>\n",
              "      <td>-1.877582</td>\n",
              "      <td>0.780510</td>\n",
              "    </tr>\n",
              "    <tr>\n",
              "      <th>39998</th>\n",
              "      <td>-0.819432</td>\n",
              "      <td>-0.241855</td>\n",
              "      <td>-1.452400</td>\n",
              "      <td>-0.882431</td>\n",
              "      <td>1.580851</td>\n",
              "      <td>0.102532</td>\n",
              "      <td>1.758079</td>\n",
              "      <td>2.773325</td>\n",
              "      <td>-1.210347</td>\n",
              "      <td>-0.925331</td>\n",
              "      <td>...</td>\n",
              "      <td>0.868978</td>\n",
              "      <td>-0.974321</td>\n",
              "      <td>0.414229</td>\n",
              "      <td>-0.872755</td>\n",
              "      <td>-0.513764</td>\n",
              "      <td>-0.106388</td>\n",
              "      <td>0.629593</td>\n",
              "      <td>0.154499</td>\n",
              "      <td>-1.948813</td>\n",
              "      <td>0.835868</td>\n",
              "    </tr>\n",
              "    <tr>\n",
              "      <th>39999</th>\n",
              "      <td>-0.235010</td>\n",
              "      <td>0.152676</td>\n",
              "      <td>-1.837812</td>\n",
              "      <td>-1.196848</td>\n",
              "      <td>1.426505</td>\n",
              "      <td>0.360087</td>\n",
              "      <td>1.488953</td>\n",
              "      <td>2.333211</td>\n",
              "      <td>-0.670647</td>\n",
              "      <td>0.237871</td>\n",
              "      <td>...</td>\n",
              "      <td>-0.183255</td>\n",
              "      <td>-0.874499</td>\n",
              "      <td>1.179634</td>\n",
              "      <td>-0.610437</td>\n",
              "      <td>-0.901517</td>\n",
              "      <td>-1.101182</td>\n",
              "      <td>0.598310</td>\n",
              "      <td>0.870646</td>\n",
              "      <td>-1.807194</td>\n",
              "      <td>0.791689</td>\n",
              "    </tr>\n",
              "  </tbody>\n",
              "</table>\n",
              "<p>40000 rows × 300 columns</p>\n",
              "</div>\n",
              "    <div class=\"colab-df-buttons\">\n",
              "\n",
              "  <div class=\"colab-df-container\">\n",
              "    <button class=\"colab-df-convert\" onclick=\"convertToInteractive('df-79aeef78-22ba-4912-b4ab-956404a25595')\"\n",
              "            title=\"Convert this dataframe to an interactive table.\"\n",
              "            style=\"display:none;\">\n",
              "\n",
              "  <svg xmlns=\"http://www.w3.org/2000/svg\" height=\"24px\" viewBox=\"0 -960 960 960\">\n",
              "    <path d=\"M120-120v-720h720v720H120Zm60-500h600v-160H180v160Zm220 220h160v-160H400v160Zm0 220h160v-160H400v160ZM180-400h160v-160H180v160Zm440 0h160v-160H620v160ZM180-180h160v-160H180v160Zm440 0h160v-160H620v160Z\"/>\n",
              "  </svg>\n",
              "    </button>\n",
              "\n",
              "  <style>\n",
              "    .colab-df-container {\n",
              "      display:flex;\n",
              "      gap: 12px;\n",
              "    }\n",
              "\n",
              "    .colab-df-convert {\n",
              "      background-color: #E8F0FE;\n",
              "      border: none;\n",
              "      border-radius: 50%;\n",
              "      cursor: pointer;\n",
              "      display: none;\n",
              "      fill: #1967D2;\n",
              "      height: 32px;\n",
              "      padding: 0 0 0 0;\n",
              "      width: 32px;\n",
              "    }\n",
              "\n",
              "    .colab-df-convert:hover {\n",
              "      background-color: #E2EBFA;\n",
              "      box-shadow: 0px 1px 2px rgba(60, 64, 67, 0.3), 0px 1px 3px 1px rgba(60, 64, 67, 0.15);\n",
              "      fill: #174EA6;\n",
              "    }\n",
              "\n",
              "    .colab-df-buttons div {\n",
              "      margin-bottom: 4px;\n",
              "    }\n",
              "\n",
              "    [theme=dark] .colab-df-convert {\n",
              "      background-color: #3B4455;\n",
              "      fill: #D2E3FC;\n",
              "    }\n",
              "\n",
              "    [theme=dark] .colab-df-convert:hover {\n",
              "      background-color: #434B5C;\n",
              "      box-shadow: 0px 1px 3px 1px rgba(0, 0, 0, 0.15);\n",
              "      filter: drop-shadow(0px 1px 2px rgba(0, 0, 0, 0.3));\n",
              "      fill: #FFFFFF;\n",
              "    }\n",
              "  </style>\n",
              "\n",
              "    <script>\n",
              "      const buttonEl =\n",
              "        document.querySelector('#df-79aeef78-22ba-4912-b4ab-956404a25595 button.colab-df-convert');\n",
              "      buttonEl.style.display =\n",
              "        google.colab.kernel.accessAllowed ? 'block' : 'none';\n",
              "\n",
              "      async function convertToInteractive(key) {\n",
              "        const element = document.querySelector('#df-79aeef78-22ba-4912-b4ab-956404a25595');\n",
              "        const dataTable =\n",
              "          await google.colab.kernel.invokeFunction('convertToInteractive',\n",
              "                                                    [key], {});\n",
              "        if (!dataTable) return;\n",
              "\n",
              "        const docLinkHtml = 'Like what you see? Visit the ' +\n",
              "          '<a target=\"_blank\" href=https://colab.research.google.com/notebooks/data_table.ipynb>data table notebook</a>'\n",
              "          + ' to learn more about interactive tables.';\n",
              "        element.innerHTML = '';\n",
              "        dataTable['output_type'] = 'display_data';\n",
              "        await google.colab.output.renderOutput(dataTable, element);\n",
              "        const docLink = document.createElement('div');\n",
              "        docLink.innerHTML = docLinkHtml;\n",
              "        element.appendChild(docLink);\n",
              "      }\n",
              "    </script>\n",
              "  </div>\n",
              "\n",
              "\n",
              "<div id=\"df-e71b2657-2259-4887-a09a-7d20124b7c8a\">\n",
              "  <button class=\"colab-df-quickchart\" onclick=\"quickchart('df-e71b2657-2259-4887-a09a-7d20124b7c8a')\"\n",
              "            title=\"Suggest charts\"\n",
              "            style=\"display:none;\">\n",
              "\n",
              "<svg xmlns=\"http://www.w3.org/2000/svg\" height=\"24px\"viewBox=\"0 0 24 24\"\n",
              "     width=\"24px\">\n",
              "    <g>\n",
              "        <path d=\"M19 3H5c-1.1 0-2 .9-2 2v14c0 1.1.9 2 2 2h14c1.1 0 2-.9 2-2V5c0-1.1-.9-2-2-2zM9 17H7v-7h2v7zm4 0h-2V7h2v10zm4 0h-2v-4h2v4z\"/>\n",
              "    </g>\n",
              "</svg>\n",
              "  </button>\n",
              "\n",
              "<style>\n",
              "  .colab-df-quickchart {\n",
              "      --bg-color: #E8F0FE;\n",
              "      --fill-color: #1967D2;\n",
              "      --hover-bg-color: #E2EBFA;\n",
              "      --hover-fill-color: #174EA6;\n",
              "      --disabled-fill-color: #AAA;\n",
              "      --disabled-bg-color: #DDD;\n",
              "  }\n",
              "\n",
              "  [theme=dark] .colab-df-quickchart {\n",
              "      --bg-color: #3B4455;\n",
              "      --fill-color: #D2E3FC;\n",
              "      --hover-bg-color: #434B5C;\n",
              "      --hover-fill-color: #FFFFFF;\n",
              "      --disabled-bg-color: #3B4455;\n",
              "      --disabled-fill-color: #666;\n",
              "  }\n",
              "\n",
              "  .colab-df-quickchart {\n",
              "    background-color: var(--bg-color);\n",
              "    border: none;\n",
              "    border-radius: 50%;\n",
              "    cursor: pointer;\n",
              "    display: none;\n",
              "    fill: var(--fill-color);\n",
              "    height: 32px;\n",
              "    padding: 0;\n",
              "    width: 32px;\n",
              "  }\n",
              "\n",
              "  .colab-df-quickchart:hover {\n",
              "    background-color: var(--hover-bg-color);\n",
              "    box-shadow: 0 1px 2px rgba(60, 64, 67, 0.3), 0 1px 3px 1px rgba(60, 64, 67, 0.15);\n",
              "    fill: var(--button-hover-fill-color);\n",
              "  }\n",
              "\n",
              "  .colab-df-quickchart-complete:disabled,\n",
              "  .colab-df-quickchart-complete:disabled:hover {\n",
              "    background-color: var(--disabled-bg-color);\n",
              "    fill: var(--disabled-fill-color);\n",
              "    box-shadow: none;\n",
              "  }\n",
              "\n",
              "  .colab-df-spinner {\n",
              "    border: 2px solid var(--fill-color);\n",
              "    border-color: transparent;\n",
              "    border-bottom-color: var(--fill-color);\n",
              "    animation:\n",
              "      spin 1s steps(1) infinite;\n",
              "  }\n",
              "\n",
              "  @keyframes spin {\n",
              "    0% {\n",
              "      border-color: transparent;\n",
              "      border-bottom-color: var(--fill-color);\n",
              "      border-left-color: var(--fill-color);\n",
              "    }\n",
              "    20% {\n",
              "      border-color: transparent;\n",
              "      border-left-color: var(--fill-color);\n",
              "      border-top-color: var(--fill-color);\n",
              "    }\n",
              "    30% {\n",
              "      border-color: transparent;\n",
              "      border-left-color: var(--fill-color);\n",
              "      border-top-color: var(--fill-color);\n",
              "      border-right-color: var(--fill-color);\n",
              "    }\n",
              "    40% {\n",
              "      border-color: transparent;\n",
              "      border-right-color: var(--fill-color);\n",
              "      border-top-color: var(--fill-color);\n",
              "    }\n",
              "    60% {\n",
              "      border-color: transparent;\n",
              "      border-right-color: var(--fill-color);\n",
              "    }\n",
              "    80% {\n",
              "      border-color: transparent;\n",
              "      border-right-color: var(--fill-color);\n",
              "      border-bottom-color: var(--fill-color);\n",
              "    }\n",
              "    90% {\n",
              "      border-color: transparent;\n",
              "      border-bottom-color: var(--fill-color);\n",
              "    }\n",
              "  }\n",
              "</style>\n",
              "\n",
              "  <script>\n",
              "    async function quickchart(key) {\n",
              "      const quickchartButtonEl =\n",
              "        document.querySelector('#' + key + ' button');\n",
              "      quickchartButtonEl.disabled = true;  // To prevent multiple clicks.\n",
              "      quickchartButtonEl.classList.add('colab-df-spinner');\n",
              "      try {\n",
              "        const charts = await google.colab.kernel.invokeFunction(\n",
              "            'suggestCharts', [key], {});\n",
              "      } catch (error) {\n",
              "        console.error('Error during call to suggestCharts:', error);\n",
              "      }\n",
              "      quickchartButtonEl.classList.remove('colab-df-spinner');\n",
              "      quickchartButtonEl.classList.add('colab-df-quickchart-complete');\n",
              "    }\n",
              "    (() => {\n",
              "      let quickchartButtonEl =\n",
              "        document.querySelector('#df-e71b2657-2259-4887-a09a-7d20124b7c8a button');\n",
              "      quickchartButtonEl.style.display =\n",
              "        google.colab.kernel.accessAllowed ? 'block' : 'none';\n",
              "    })();\n",
              "  </script>\n",
              "</div>\n",
              "    </div>\n",
              "  </div>\n"
            ],
            "application/vnd.google.colaboratory.intrinsic+json": {
              "type": "dataframe",
              "variable_name": "X"
            }
          },
          "metadata": {},
          "execution_count": 8
        }
      ]
    },
    {
      "cell_type": "code",
      "source": [
        "y"
      ],
      "metadata": {
        "id": "-x3xi-onpOc4",
        "colab": {
          "base_uri": "https://localhost:8080/"
        },
        "outputId": "d264a9b9-4abd-433b-955b-289f9205de83"
      },
      "execution_count": null,
      "outputs": [
        {
          "output_type": "execute_result",
          "data": {
            "text/plain": [
              "0        0\n",
              "1        0\n",
              "2        0\n",
              "3        0\n",
              "4        1\n",
              "        ..\n",
              "39995    1\n",
              "39996    1\n",
              "39997    0\n",
              "39998    1\n",
              "39999    1\n",
              "Name: label, Length: 40000, dtype: int64"
            ]
          },
          "metadata": {},
          "execution_count": 9
        }
      ]
    },
    {
      "cell_type": "markdown",
      "source": [
        "### KNN\n"
      ],
      "metadata": {
        "id": "SNwHovUCnEvW"
      }
    },
    {
      "cell_type": "markdown",
      "source": [
        "Для начала обучим модель KNN"
      ],
      "metadata": {
        "id": "NMtSshOdKv43"
      }
    },
    {
      "cell_type": "code",
      "source": [
        "from sklearn.neighbors import KNeighborsClassifier\n"
      ],
      "metadata": {
        "id": "z1_Nz0bDnMr6"
      },
      "execution_count": 9,
      "outputs": []
    },
    {
      "cell_type": "code",
      "source": [
        "knn = KNeighborsClassifier(n_neighbors=5).fit(X_train, y_train)"
      ],
      "metadata": {
        "id": "Z8ZBPHInnUGM"
      },
      "execution_count": 10,
      "outputs": []
    },
    {
      "cell_type": "code",
      "source": [
        "knn.predict([X_test.iloc[0]])"
      ],
      "metadata": {
        "id": "W1XAQl52neJo",
        "colab": {
          "base_uri": "https://localhost:8080/"
        },
        "outputId": "eb7e1e6f-6433-4724-eea0-1b924cbf6719"
      },
      "execution_count": 11,
      "outputs": [
        {
          "output_type": "stream",
          "name": "stderr",
          "text": [
            "/usr/local/lib/python3.10/dist-packages/sklearn/base.py:439: UserWarning: X does not have valid feature names, but KNeighborsClassifier was fitted with feature names\n",
            "  warnings.warn(\n"
          ]
        },
        {
          "output_type": "execute_result",
          "data": {
            "text/plain": [
              "array([1])"
            ]
          },
          "metadata": {},
          "execution_count": 11
        }
      ]
    },
    {
      "cell_type": "code",
      "source": [
        "print(classification_report(y_test, knn.predict(X_test)))"
      ],
      "metadata": {
        "id": "Ej6pIbGUniLV",
        "colab": {
          "base_uri": "https://localhost:8080/"
        },
        "outputId": "96275f58-532a-4a0e-8324-3cd74d16b66c"
      },
      "execution_count": 12,
      "outputs": [
        {
          "output_type": "stream",
          "name": "stdout",
          "text": [
            "              precision    recall  f1-score   support\n",
            "\n",
            "           0       0.72      0.75      0.73      5005\n",
            "           1       0.74      0.71      0.72      4995\n",
            "\n",
            "    accuracy                           0.73     10000\n",
            "   macro avg       0.73      0.73      0.73     10000\n",
            "weighted avg       0.73      0.73      0.73     10000\n",
            "\n"
          ]
        }
      ]
    },
    {
      "cell_type": "markdown",
      "source": [
        "Как можно заметить, KNN показывает достаточно маленькую точность. Продолжим обучать другие модели."
      ],
      "metadata": {
        "id": "okpSkDNGpe6R"
      }
    },
    {
      "cell_type": "markdown",
      "source": [
        "### Логистическая регрессия"
      ],
      "metadata": {
        "id": "VLYSyUdSpnpE"
      }
    },
    {
      "cell_type": "markdown",
      "source": [
        "Обучим модель логистической регрессии"
      ],
      "metadata": {
        "id": "Q_FAtzqm_l7R"
      }
    },
    {
      "cell_type": "code",
      "source": [
        "from sklearn.linear_model import LogisticRegression"
      ],
      "metadata": {
        "id": "vWMg8gfLpzcT"
      },
      "execution_count": null,
      "outputs": []
    },
    {
      "cell_type": "code",
      "source": [
        "lr = LogisticRegression().fit(X_train, y_train)\n",
        "print(classification_report(y_test, lr.predict(X_test)))\n",
        "print(confusion_matrix(y_test, lr.predict(X_test)))"
      ],
      "metadata": {
        "id": "LVufPs7Ap0Lr",
        "colab": {
          "base_uri": "https://localhost:8080/"
        },
        "outputId": "7c8acec2-93a2-4030-c799-0ba597145c6a"
      },
      "execution_count": null,
      "outputs": [
        {
          "output_type": "stream",
          "name": "stdout",
          "text": [
            "              precision    recall  f1-score   support\n",
            "\n",
            "           0       0.83      0.82      0.82      5005\n",
            "           1       0.82      0.83      0.82      4995\n",
            "\n",
            "    accuracy                           0.82     10000\n",
            "   macro avg       0.82      0.82      0.82     10000\n",
            "weighted avg       0.82      0.82      0.82     10000\n",
            "\n",
            "[[4080  925]\n",
            " [ 844 4151]]\n"
          ]
        },
        {
          "output_type": "stream",
          "name": "stderr",
          "text": [
            "/usr/local/lib/python3.10/dist-packages/sklearn/linear_model/_logistic.py:458: ConvergenceWarning: lbfgs failed to converge (status=1):\n",
            "STOP: TOTAL NO. of ITERATIONS REACHED LIMIT.\n",
            "\n",
            "Increase the number of iterations (max_iter) or scale the data as shown in:\n",
            "    https://scikit-learn.org/stable/modules/preprocessing.html\n",
            "Please also refer to the documentation for alternative solver options:\n",
            "    https://scikit-learn.org/stable/modules/linear_model.html#logistic-regression\n",
            "  n_iter_i = _check_optimize_result(\n"
          ]
        }
      ]
    },
    {
      "cell_type": "markdown",
      "source": [
        "Как можно заметить, логистическая регрессия показала самый хороший результат по сравнению со всему остальными моделями. Сохраняем модель"
      ],
      "metadata": {
        "id": "q9QMZ3gY_rQF"
      }
    },
    {
      "cell_type": "code",
      "source": [
        "import pickle\n",
        "# save\n",
        "with open('model.pkl','wb') as f:\n",
        "    pickle.dump(lr,f)"
      ],
      "metadata": {
        "id": "rTvwbnu7sw8j"
      },
      "execution_count": null,
      "outputs": []
    },
    {
      "cell_type": "code",
      "source": [
        "with open('model.pkl', 'rb') as f:\n",
        "    model = pickle.load(f)"
      ],
      "metadata": {
        "id": "sHfpchoOs66M"
      },
      "execution_count": null,
      "outputs": []
    },
    {
      "cell_type": "code",
      "source": [
        "print(classification_report(y_test, model.predict(X_test)))\n",
        "print(confusion_matrix(y_test, model.predict(X_test)))"
      ],
      "metadata": {
        "colab": {
          "base_uri": "https://localhost:8080/"
        },
        "id": "f03ZV4UftEst",
        "outputId": "0ac8b447-85e1-4450-cbab-a099afcab6b2"
      },
      "execution_count": null,
      "outputs": [
        {
          "output_type": "stream",
          "name": "stdout",
          "text": [
            "              precision    recall  f1-score   support\n",
            "\n",
            "           0       0.83      0.82      0.83      5005\n",
            "           1       0.83      0.83      0.83      4995\n",
            "\n",
            "    accuracy                           0.83     10000\n",
            "   macro avg       0.83      0.83      0.83     10000\n",
            "weighted avg       0.83      0.83      0.83     10000\n",
            "\n",
            "[[4128  877]\n",
            " [ 856 4139]]\n"
          ]
        }
      ]
    },
    {
      "cell_type": "markdown",
      "source": [
        "### Деревья принятия решений"
      ],
      "metadata": {
        "id": "rJbCgpyNp_NH"
      }
    },
    {
      "cell_type": "markdown",
      "source": [
        "Обучим модель деревьев принятия решений"
      ],
      "metadata": {
        "id": "f7PJTdyvAHGH"
      }
    },
    {
      "cell_type": "code",
      "source": [
        "from sklearn.tree import DecisionTreeClassifier"
      ],
      "metadata": {
        "id": "KJkvkCrLqDPI"
      },
      "execution_count": null,
      "outputs": []
    },
    {
      "cell_type": "code",
      "source": [
        "dt = DecisionTreeClassifier().fit(X_train, y_train)\n",
        "print(classification_report(y_test, dt.predict(X_test)))\n",
        "print(confusion_matrix(y_test, dt.predict(X_test)))"
      ],
      "metadata": {
        "colab": {
          "base_uri": "https://localhost:8080/"
        },
        "id": "ykcOawnxqGoP",
        "outputId": "7d1f9695-3985-4571-eca6-1a2078c8388a"
      },
      "execution_count": null,
      "outputs": [
        {
          "output_type": "stream",
          "name": "stdout",
          "text": [
            "              precision    recall  f1-score   support\n",
            "\n",
            "           0       0.65      0.65      0.65      5005\n",
            "           1       0.65      0.66      0.65      4995\n",
            "\n",
            "    accuracy                           0.65     10000\n",
            "   macro avg       0.65      0.65      0.65     10000\n",
            "weighted avg       0.65      0.65      0.65     10000\n",
            "\n",
            "[[3252 1753]\n",
            " [1719 3276]]\n"
          ]
        }
      ]
    },
    {
      "cell_type": "markdown",
      "source": [
        "Как можно заметить, логистическая регрессия показала лучший результат."
      ],
      "metadata": {
        "id": "oQyR31NdALMY"
      }
    },
    {
      "cell_type": "markdown",
      "source": [
        "### Бэггинг + Бустинг"
      ],
      "metadata": {
        "id": "vodGglu4ql1w"
      }
    },
    {
      "cell_type": "markdown",
      "source": [
        "Обучим модели бэггинга и бустинга"
      ],
      "metadata": {
        "id": "tuNWDkWfARUw"
      }
    },
    {
      "cell_type": "code",
      "source": [
        "from sklearn.ensemble import BaggingClassifier, GradientBoostingClassifier"
      ],
      "metadata": {
        "id": "a66GG2sDqldL"
      },
      "execution_count": null,
      "outputs": []
    },
    {
      "cell_type": "code",
      "source": [
        "bag = BaggingClassifier().fit(X_train, y_train)\n",
        "print(classification_report(y_test, bag.predict(X_test)))\n",
        "print(confusion_matrix(y_test, bag.predict(X_test)))"
      ],
      "metadata": {
        "colab": {
          "base_uri": "https://localhost:8080/"
        },
        "id": "4Gw9smF9qvMB",
        "outputId": "e9f973ac-119f-4cc5-c5bd-00260da85479"
      },
      "execution_count": null,
      "outputs": [
        {
          "output_type": "stream",
          "name": "stdout",
          "text": [
            "              precision    recall  f1-score   support\n",
            "\n",
            "           0       0.71      0.78      0.74      5005\n",
            "           1       0.75      0.68      0.71      4995\n",
            "\n",
            "    accuracy                           0.73     10000\n",
            "   macro avg       0.73      0.73      0.73     10000\n",
            "weighted avg       0.73      0.73      0.73     10000\n",
            "\n",
            "[[3893 1112]\n",
            " [1598 3397]]\n"
          ]
        }
      ]
    },
    {
      "cell_type": "code",
      "source": [
        "gb = GradientBoostingClassifier().fit(X_train, y_train)\n",
        "print(classification_report(y_test, gb.predict(X_test)))\n",
        "print(confusion_matrix(y_test, gb.predict(X_test)))"
      ],
      "metadata": {
        "id": "DVxkBBFKqwmo",
        "colab": {
          "base_uri": "https://localhost:8080/"
        },
        "outputId": "a23f1e70-ef5f-414f-a530-03fd15df216e"
      },
      "execution_count": null,
      "outputs": [
        {
          "output_type": "stream",
          "name": "stdout",
          "text": [
            "              precision    recall  f1-score   support\n",
            "\n",
            "           0       0.79      0.78      0.78      5005\n",
            "           1       0.78      0.79      0.78      4995\n",
            "\n",
            "    accuracy                           0.78     10000\n",
            "   macro avg       0.78      0.78      0.78     10000\n",
            "weighted avg       0.78      0.78      0.78     10000\n",
            "\n",
            "[[3902 1103]\n",
            " [1066 3929]]\n"
          ]
        }
      ]
    },
    {
      "cell_type": "markdown",
      "source": [
        "Бэггинг и бустинг показали худший результат, чем логистическая регрессия"
      ],
      "metadata": {
        "id": "lyDw9kvnAV3A"
      }
    },
    {
      "cell_type": "markdown",
      "source": [
        "## Интерфейс"
      ],
      "metadata": {
        "id": "DhWaF5lHqjtg"
      }
    },
    {
      "cell_type": "markdown",
      "source": [
        "Для реализации интерфейса используем библиатеку `streamlit`"
      ],
      "metadata": {
        "id": "HzqGtjn0Ae-w"
      }
    },
    {
      "cell_type": "code",
      "source": [
        "! pip install streamlit -q\n"
      ],
      "metadata": {
        "id": "KuGteB6vrd62"
      },
      "execution_count": null,
      "outputs": []
    },
    {
      "cell_type": "code",
      "source": [
        "!wget -q -O - ipv4.icanhazip.com"
      ],
      "metadata": {
        "colab": {
          "base_uri": "https://localhost:8080/"
        },
        "id": "JKXR4LfcwjFY",
        "outputId": "9d17686b-656d-4a8d-ad65-30075d1413b8"
      },
      "execution_count": null,
      "outputs": [
        {
          "output_type": "stream",
          "name": "stdout",
          "text": [
            "104.197.43.104\n"
          ]
        }
      ]
    },
    {
      "cell_type": "code",
      "source": [
        "! streamlit run app.py & npx localtunnel --port 8501"
      ],
      "metadata": {
        "colab": {
          "base_uri": "https://localhost:8080/"
        },
        "id": "oH9dPkXAxzfP",
        "outputId": "35a5835d-c930-4e21-8040-271ad7be19e3"
      },
      "execution_count": null,
      "outputs": [
        {
          "output_type": "stream",
          "name": "stdout",
          "text": [
            "\n",
            "Collecting usage statistics. To deactivate, set browser.gatherUsageStats to false.\n",
            "\u001b[0m\n",
            "\u001b[0m\n",
            "\u001b[34m\u001b[1m  You can now view your Streamlit app in your browser.\u001b[0m\n",
            "\u001b[0m\n",
            "\u001b[34m  Network URL: \u001b[0m\u001b[1mhttp://172.28.0.12:8501\u001b[0m\n",
            "\u001b[34m  External URL: \u001b[0m\u001b[1mhttp://104.197.43.104:8501\u001b[0m\n",
            "\u001b[0m\n",
            "\u001b[K\u001b[?25hnpx: installed 22 in 3.601s\n",
            "your url is: https://tired-jeans-press.loca.lt\n",
            "/usr/local/lib/python3.10/dist-packages/sklearn/base.py:439: UserWarning: X does not have valid feature names, but LogisticRegression was fitted with feature names\n",
            "  warnings.warn(\n",
            "/usr/local/lib/python3.10/dist-packages/sklearn/base.py:439: UserWarning: X does not have valid feature names, but LogisticRegression was fitted with feature names\n",
            "  warnings.warn(\n",
            "\u001b[34m  Stopping...\u001b[0m\n",
            "^C\n"
          ]
        }
      ]
    },
    {
      "cell_type": "markdown",
      "source": [
        "Код `app.py` , в котором реализован весь интерфейс"
      ],
      "metadata": {
        "id": "hQ5DsUGw6-tu"
      }
    },
    {
      "cell_type": "code",
      "source": [
        "import streamlit as st\n",
        "import pickle\n",
        "import spacy\n",
        "import re\n",
        "import string\n",
        "import pandas as pd\n",
        "\n",
        "# загрузка модели\n",
        "with open('/content/model.pkl', 'rb') as f:\n",
        "    model = pickle.load(f)\n",
        "nlp = spacy.load(\"en_core_web_md\")\n",
        "stopwords = nlp.Defaults.stop_words\n",
        "\n",
        "#предобработка текста\n",
        "def preprocess_text(text):\n",
        "    # Удаление HTML-тегов\n",
        "    no_html = re.sub('<[^>]*>', '', text)\n",
        "    # Обработка текста с помощью Spacy\n",
        "    doc = nlp(no_html)\n",
        "    # Удаление стоп-слов и пунктуации\n",
        "    tokens = [token.lower_ for token in doc if token.lower_ not in stopwords and token.lower_ not in string.punctuation]\n",
        "    # Возврат обработанного документа Spacy\n",
        "    doc = nlp(' '.join(tokens))\n",
        "    return doc\n",
        "\n",
        "\n",
        "st.write('# Определение эмоциональной тональности')\n",
        "user_input = st.text_area(\"Введите ваш отзыв здесь\")\n",
        "\n",
        "if st.button(\"Определить тональность\"):\n",
        "    if user_input.strip() == \"\":\n",
        "        st.warning(\"Пожалуйста, введите отзыв.\")\n",
        "    else:\n",
        "        # Прогнозирование тональности\n",
        "        doc = preprocess_text(user_input.strip())\n",
        "        vector_data = doc.vector\n",
        "        vector_df = pd.DataFrame(vector_data.tolist())\n",
        "        answer = model.predict(vector_df.T)\n",
        "        if answer == 1:\n",
        "            st.success(\"Этот отзыв положительный!\")\n",
        "        else:\n",
        "            st.error(\"Этот отзыв отрицательный.\")\n",
        "\n"
      ],
      "metadata": {
        "id": "kjsuJ8id69Ge"
      },
      "execution_count": null,
      "outputs": []
    },
    {
      "cell_type": "markdown",
      "source": [
        "Результат при вводе хорошего отзыва"
      ],
      "metadata": {
        "id": "SIw15sS6BRMv"
      }
    },
    {
      "cell_type": "markdown",
      "source": [
        "![image.png](data:image/png;base64,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)"
      ],
      "metadata": {
        "id": "ZVWUDE6k8_IW"
      }
    },
    {
      "cell_type": "markdown",
      "source": [
        "Результат при вводе плохого отзыва"
      ],
      "metadata": {
        "id": "FWfHog4LBVpU"
      }
    },
    {
      "cell_type": "markdown",
      "source": [
        "![image.png](data:image/png;base64,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)"
      ],
      "metadata": {
        "id": "K-xa87ZN97ZQ"
      }
    }
  ]
}